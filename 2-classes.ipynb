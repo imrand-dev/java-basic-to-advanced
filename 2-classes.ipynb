{
 "cells": [
  {
   "cell_type": "markdown",
   "id": "09e9b22f-fdfa-4782-9fc1-5e977d93fe0c",
   "metadata": {},
   "source": [
    "# Sessions 12, 13, 14 - Classes\n",
    "\n",
    "* Concrete Class\n",
    "* Abstract Class\n",
    "* Super and Sub Class\n",
    "* Nested Class\n",
    "    * Inner Class (Non static nested class)\n",
    "    * Anonymous Inner Class\n",
    "    * Member Inner Class\n",
    "    * Local Inner Class\n",
    "    * Static Nested Class \n",
    "* Generic Class\n",
    "* POJO Class\n",
    "* Enum Class\n",
    "    * Normal enum class\n",
    "    * Custom enum class\n",
    "    * Enum with abstract method\n",
    "    * Method override by Constant\n",
    "* Final Class\n",
    "* Singleton Class\n",
    "* Immutable Class\n",
    "* Wrapper Class"
   ]
  },
  {
   "cell_type": "markdown",
   "id": "999babf1-34d9-4ffd-844c-6f2d74dc32f9",
   "metadata": {},
   "source": [
    "## Concrete Class\n",
    "\n",
    "- These are those classes for which we can create an instance using `NEW`  keyword. \n",
    "- All of the methods in this class have an implementation.\n",
    "- It can also be your child class from `interface` or extend `abstract` class.\n",
    "- A class access modifier can be `public` or \"package private\" (default)."
   ]
  },
  {
   "cell_type": "code",
   "execution_count": 1,
   "id": "0c9e7309-9937-423a-bb0c-a846f80ee759",
   "metadata": {},
   "outputs": [],
   "source": [
    "public class Person {\n",
    "    int empId;\n",
    "    \n",
    "    Person(int empId) {\n",
    "        this.empId = empId;\n",
    "    }\n",
    "    \n",
    "    public int getEmpId() {\n",
    "        return this.empId;\n",
    "    }\n",
    "}"
   ]
  },
  {
   "cell_type": "code",
   "execution_count": 2,
   "id": "f81411a3-b766-4fbc-a468-f18a5c91d3b7",
   "metadata": {},
   "outputs": [
    {
     "data": {
      "text/plain": [
       "10"
      ]
     },
     "execution_count": 2,
     "metadata": {},
     "output_type": "execute_result"
    }
   ],
   "source": [
    "Person person = new Person(10);\n",
    "person.getEmpId();"
   ]
  },
  {
   "cell_type": "code",
   "execution_count": 3,
   "id": "bd94abee-67cc-4123-a7aa-77556761e470",
   "metadata": {},
   "outputs": [],
   "source": [
    "public interface Shape {\n",
    "    public void computeArea();\n",
    "}"
   ]
  },
  {
   "cell_type": "code",
   "execution_count": 4,
   "id": "158ebdec-8cce-4944-b4fc-21e457b7aa6f",
   "metadata": {},
   "outputs": [
    {
     "name": "stdout",
     "output_type": "stream",
     "text": [
      "Compute Rectangle Area\n"
     ]
    }
   ],
   "source": [
    "public class Rectangle implements Shape {\n",
    "    @Override\n",
    "    public void computeArea() {\n",
    "        System.out.println(\"Compute Rectangle Area\");\n",
    "    }\n",
    "}\n",
    "\n",
    "Rectangle rectangle = new Rectangle();\n",
    "rectangle.computeArea();"
   ]
  },
  {
   "cell_type": "markdown",
   "id": "a2cf55fe-c498-4ff0-9acc-f70cfa2a79de",
   "metadata": {},
   "source": [
    "## Abstract Class (0 to 100% Abstraction)\n",
    "\n",
    "- [Interface and Abstract class Loopholes](https://www.youtube.com/playlist?list=PLd3UqWTnYXOm5UXbKfj8iZfWQNcLPL3HC)\n",
    "\n",
    "Shows only important features to users and hide its internal implementation. \n",
    "\n",
    "2 ways to achieve abstraction:\n",
    "\n",
    "- class is declared as abstracted through the keyword `abstract`.\n",
    "- It can have both abstract (methods without bodies) and non-abstract methods.\n",
    "- We cannot create an instance of this class.\n",
    "- If parents have some features that all child classes have in common, then this can be used.\n",
    "- Constructors can be created inside them. And with the `super` keyword from child classes, we can access them."
   ]
  },
  {
   "cell_type": "code",
   "execution_count": 5,
   "id": "b39b5430-cdc4-4b8e-a091-6cf2bf811cc2",
   "metadata": {},
   "outputs": [],
   "source": [
    "public abstract class Car {\n",
    "    int mileage;\n",
    "    \n",
    "    Car(int mileage) {\n",
    "        this.mileage = mileage;\n",
    "    }\n",
    "    \n",
    "    public abstract void pressBreak();\n",
    "    \n",
    "    public abstract void pressCluth();\n",
    "    \n",
    "    public int getNumberOfWheels() {\n",
    "        return 4;\n",
    "    }\n",
    "}"
   ]
  },
  {
   "cell_type": "code",
   "execution_count": 6,
   "id": "73c3f3ed-6e1b-4995-bab6-d24c0867be54",
   "metadata": {},
   "outputs": [],
   "source": [
    "public abstract class LuxuryCar extends Car {\n",
    "    LuxuryCar(int mileage) {\n",
    "        super(mileage);\n",
    "    }\n",
    "    \n",
    "    public abstract void pressDualBreakSystem();\n",
    "    \n",
    "    @Override\n",
    "    public void pressBreak() {\n",
    "        System.out.println(\"Press the Break\");\n",
    "    }\n",
    "}"
   ]
  },
  {
   "cell_type": "code",
   "execution_count": 7,
   "id": "e377e1bd-73fc-45a7-8288-05e7343dfa2b",
   "metadata": {},
   "outputs": [],
   "source": [
    "public class Audi extends LuxuryCar {\n",
    "    Audi(int mileage) {\n",
    "        super(mileage);\n",
    "    }\n",
    "    \n",
    "    @Override\n",
    "    public void pressCluth() {\n",
    "        System.out.println(\"Press the Cluth\");\n",
    "    }\n",
    "    \n",
    "    @Override\n",
    "    public void pressDualBreakSystem() {\n",
    "        System.out.println(\"Press the Dual Break\");\n",
    "    }\n",
    "}"
   ]
  },
  {
   "cell_type": "code",
   "execution_count": 8,
   "id": "be6ff675-4e43-439b-8666-520deef6cdef",
   "metadata": {},
   "outputs": [
    {
     "name": "stdout",
     "output_type": "stream",
     "text": [
      "Press the Dual Break\n",
      "Press the Cluth\n",
      "Press the Break\n"
     ]
    }
   ],
   "source": [
    "Audi audi = new Audi(20);\n",
    "audi.pressDualBreakSystem();\n",
    "audi.pressCluth();\n",
    "audi.pressBreak();"
   ]
  },
  {
   "cell_type": "markdown",
   "id": "aaafbbfd-a542-425f-aebd-e8ce2ffc6265",
   "metadata": {},
   "source": [
    "## Super and Sub Class\n",
    "\n",
    "- A class that is derived from another class is called a subclass.\n",
    "- And from the class through which Subclass is derived, it is called Superclass.\n",
    "- In Java, in the absence of any other explicit superclass, every class is implicitly a subclass of the `Object` class.\n",
    "- `Object` is the topmost class in Java.\n",
    "- It has some common methods like `clone()`, `toString()`, `equals()`, `notify()`, `wait()`, etc."
   ]
  },
  {
   "cell_type": "code",
   "execution_count": 9,
   "id": "8ca8f952-ba8a-446f-93d0-d04bfaec233e",
   "metadata": {},
   "outputs": [],
   "source": [
    "public class ObjectTest {\n",
    "    public static void Main() {\n",
    "        \n",
    "        Object obj1 = new Person(10);\n",
    "        Object obj2 = new Audi(15);\n",
    "        \n",
    "        System.out.println(obj1.getClass());\n",
    "        System.out.println(obj2.getClass());\n",
    "    }\n",
    "}"
   ]
  },
  {
   "cell_type": "code",
   "execution_count": 10,
   "id": "19f363ae-4718-4053-b614-b2e9f4b992b8",
   "metadata": {},
   "outputs": [
    {
     "name": "stdout",
     "output_type": "stream",
     "text": [
      "class REPL.$JShell$12$Person\n",
      "class REPL.$JShell$21$Audi\n"
     ]
    }
   ],
   "source": [
    "ObjectTest objTest = new ObjectTest();\n",
    "objTest.Main();"
   ]
  },
  {
   "cell_type": "code",
   "execution_count": 11,
   "id": "13797a91-1676-4f81-9dd8-7b7f542055ad",
   "metadata": {},
   "outputs": [
    {
     "name": "stdout",
     "output_type": "stream",
     "text": [
      "class REPL.$JShell$26$ObjectTest\n"
     ]
    }
   ],
   "source": [
    "System.out.println(objTest.getClass());"
   ]
  },
  {
   "cell_type": "markdown",
   "id": "fa129c70-1146-482a-afdb-692c9281bc74",
   "metadata": {
    "tags": []
   },
   "source": [
    "## Nested Class\n",
    "\n",
    "- [Innerclass Part- 1||Introduction](https://www.youtube.com/watch?v=DcFWgoKs5B0)\n",
    "- [Innerclass Part- 3||anonymous inner class](https://www.youtube.com/watch?v=QSvPY-Y71-k)\n",
    "- [Innerclass Part- 2||normal innerclass||regular innerclass](https://www.youtube.com/watch?v=pRsqR3vQvBM)\n",
    "- [Innerclass Part- 4||normal java class Vs anonymous inner class](https://www.youtube.com/watch?v=yB7dt-DDOgI)\n",
    "- [Innerclass Part- 5||nested classes and interfaces](https://www.youtube.com/watch?v=V3fhKrL8fy8)\n",
    "\n",
    "Class within another class is called Nested class.\n",
    "\n",
    "### When to use?\n",
    "\n",
    "If you know that, a class `A` will be used by only one another class `B`, then instead of creating a new file `A.java` for it, we can create a nested class inside `B` class. And it will also help us to group together logically related classes in one file.\n",
    "\n",
    "### Scope\n",
    "\n",
    "It's scope is same as of its Outer class.\n",
    "\n",
    "### Types\n",
    "\n",
    "It is mainly 2 types.\n",
    "\n",
    "- Static nested class\n",
    "- Non static nested class (also known as inner class)\n",
    "    - Member inner class\n",
    "    - Local inner class\n",
    "    - Anonymous inner class\n",
    "\n",
    "### Static nested class\n",
    "\n",
    "- It doesn't have any access to non static instance variables and methods of Outer class.\n",
    "- It's object can be initiated without initiating the object of Outer class.\n",
    "- It can be `private`, `public`, `protected` or `default`."
   ]
  },
  {
   "cell_type": "code",
   "execution_count": 12,
   "id": "a7d2475d-fdcf-4e68-a482-5a95fb70da25",
   "metadata": {},
   "outputs": [
    {
     "name": "stdout",
     "output_type": "stream",
     "text": [
      "20\n"
     ]
    }
   ],
   "source": [
    "public class OuterClass {\n",
    "    int instanceVariable = 10;\n",
    "    static int classVariable = 20;\n",
    "    \n",
    "    public static class NestedClass {\n",
    "        public void print() {\n",
    "            System.out.println(classVariable);\n",
    "        }\n",
    "    }\n",
    "}\n",
    "\n",
    "OuterClass.NestedClass nested = new OuterClass.NestedClass();\n",
    "nested.print();"
   ]
  },
  {
   "cell_type": "markdown",
   "id": "39dbc6c6-58a7-4ea4-960b-693ef4f79c3c",
   "metadata": {},
   "source": [
    "#### Nested class with `private` access modifier.\n",
    "\n",
    "nested class object can be created within the same class itself."
   ]
  },
  {
   "cell_type": "code",
   "execution_count": 13,
   "id": "78f2d9ae-fd26-4f1c-9b2d-0c09b0487384",
   "metadata": {},
   "outputs": [
    {
     "name": "stdout",
     "output_type": "stream",
     "text": [
      "200\n"
     ]
    }
   ],
   "source": [
    "public class OuterClass {\n",
    "    int instanceVariable = 10;\n",
    "    static int classVariable = 200;\n",
    "    \n",
    "    private static class NestedClass {\n",
    "        public void print() {\n",
    "            System.out.println(classVariable);\n",
    "        }\n",
    "    }\n",
    "    \n",
    "    public void display() {\n",
    "        NestedClass nestedObj = new NestedClass();\n",
    "        nestedObj.print();\n",
    "    }\n",
    "}\n",
    "\n",
    "OuterClass outerclass = new OuterClass();\n",
    "outerclass.display();"
   ]
  },
  {
   "cell_type": "markdown",
   "id": "f18741a4-140d-4049-8ab0-8399eabbd6e9",
   "metadata": {},
   "source": [
    "### Inner class or non-static nested class\n",
    "\n",
    "- It has access to all instance variables and methods of the outer class.\n",
    "- It's object can be initiated after initiating the object of the outer class.\n",
    "\n",
    "#### Member Inner Class\n",
    "\n",
    "It can be `private`, `protected`, `public` or `default`."
   ]
  },
  {
   "cell_type": "code",
   "execution_count": 14,
   "id": "57d7a370-c38a-4c43-a81a-dea532585eee",
   "metadata": {},
   "outputs": [
    {
     "name": "stdout",
     "output_type": "stream",
     "text": [
      "210\n"
     ]
    }
   ],
   "source": [
    "class OuterClass {\n",
    "    int instanceVariable = 10;\n",
    "    static int classVariable = 200;\n",
    "    \n",
    "    class InnerClass {\n",
    "        public void print() {\n",
    "            System.out.println(instanceVariable + classVariable);\n",
    "        }\n",
    "    }\n",
    "}\n",
    "\n",
    "OuterClass outerclass = new OuterClass();\n",
    "\n",
    "OuterClass.InnerClass nestedclass = outerclass.new InnerClass();\n",
    "nestedclass.print();"
   ]
  },
  {
   "cell_type": "markdown",
   "id": "6c4bb7e7-8d16-42a1-a038-ace81861c9e9",
   "metadata": {},
   "source": [
    "#### Local Inner Class\n",
    "\n",
    "- These are the classes that are defined in any block, like for loop, while loop, if condition block, method, etc.\n",
    "- It cannot be declared `private`, `protected`, or `public`. Only the `default` (not defined explicitly) access modifier is used.\n",
    "- It cannot be initiated outside of this block."
   ]
  },
  {
   "cell_type": "code",
   "execution_count": 15,
   "id": "401b3525-a68b-4448-9baf-5adb258ae863",
   "metadata": {},
   "outputs": [],
   "source": [
    "class OuterClass {\n",
    "    int instanceVariable = 1;\n",
    "    static int classVariable = 2;\n",
    "    \n",
    "    public void display() {\n",
    "        int methodLocalVariable = 3;\n",
    "        \n",
    "        class LocalInnerClass {\n",
    "            int localInnerVariable = 4;\n",
    "            \n",
    "            public void print() {\n",
    "                System.out.println(instanceVariable + methodLocalVariable + localInnerVariable + classVariable);\n",
    "            }\n",
    "        }\n",
    "        \n",
    "        LocalInnerClass local = new LocalInnerClass();\n",
    "        local.print();\n",
    "    }\n",
    "}"
   ]
  },
  {
   "cell_type": "code",
   "execution_count": 16,
   "id": "8bc087fb-8aa3-40ad-abfb-82a9060a537a",
   "metadata": {},
   "outputs": [
    {
     "name": "stdout",
     "output_type": "stream",
     "text": [
      "10\n"
     ]
    }
   ],
   "source": [
    "OuterClass outer = new OuterClass();\n",
    "outer.display();"
   ]
  },
  {
   "cell_type": "markdown",
   "id": "abda1d73-e9b7-4e9c-afbf-bbb2d0e9ceb0",
   "metadata": {},
   "source": [
    "#### Annonymous Inner Class\n",
    "\n",
    "An inner class without a name is called annonymous inner class.\n",
    "\n",
    "##### When to use?\n",
    "\n",
    "- When we want to override the behaviour of a method without even creating any subclass..."
   ]
  },
  {
   "cell_type": "code",
   "execution_count": 17,
   "id": "c37f0100-1042-4d38-aaab-556d5b0aacfb",
   "metadata": {},
   "outputs": [
    {
     "name": "stdout",
     "output_type": "stream",
     "text": [
      "Audi Specfic Break\n"
     ]
    }
   ],
   "source": [
    "public abstract class Car {\n",
    "    public abstract void pressBreak();\n",
    "}\n",
    "\n",
    "\n",
    "Car audiCar = new Car() {\n",
    "    @Override\n",
    "    public void pressBreak() {\n",
    "        System.out.println(\"Audi Specfic Break\");\n",
    "    }\n",
    "};\n",
    "\n",
    "audiCar.pressBreak();"
   ]
  },
  {
   "cell_type": "markdown",
   "id": "59c7b347-89f2-4451-837a-8eb1e8c3f703",
   "metadata": {},
   "source": [
    "### Inheritance in nested class\n",
    "\n",
    "#### Ex 1: One Inner class inherit another inner class in the same outer class."
   ]
  },
  {
   "cell_type": "code",
   "execution_count": 18,
   "id": "71397915-3b21-4c45-b170-54156228bb95",
   "metadata": {},
   "outputs": [],
   "source": [
    "class OuterClass {\n",
    "    int instanceVar = 1;\n",
    "    static int classVar = 2;\n",
    "    \n",
    "    class InnerClass {\n",
    "        int innerClassVar = 3;\n",
    "    }\n",
    "    \n",
    "    class AnotherInnerClass extends InnerClass {\n",
    "        int localInnerVariable = 44;\n",
    "            \n",
    "        public void print() {\n",
    "            System.out.println(instanceVar + innerClassVar + classVar + localInnerVariable);\n",
    "        }\n",
    "    }\n",
    "}"
   ]
  },
  {
   "cell_type": "code",
   "execution_count": 19,
   "id": "83ef551f-3b30-4648-94b3-01ef38965bba",
   "metadata": {},
   "outputs": [
    {
     "name": "stdout",
     "output_type": "stream",
     "text": [
      "50\n"
     ]
    }
   ],
   "source": [
    "OuterClass outer = new OuterClass();\n",
    "OuterClass.AnotherInnerClass another = outer.new AnotherInnerClass();\n",
    "another.print();"
   ]
  },
  {
   "cell_type": "markdown",
   "id": "d90c93bf-659b-4d55-81b4-a25daba3e7a2",
   "metadata": {},
   "source": [
    "#### Ex 2: Static inner class inherited by different class"
   ]
  },
  {
   "cell_type": "code",
   "execution_count": 20,
   "id": "c2c17405-fec9-46b9-8681-31f8b01a541b",
   "metadata": {},
   "outputs": [],
   "source": [
    "class OuterClass {\n",
    "    static class NestedClass {\n",
    "        public void display() {\n",
    "            System.out.println(\"Inside Nested Class\");\n",
    "        }\n",
    "    }\n",
    "}"
   ]
  },
  {
   "cell_type": "code",
   "execution_count": 21,
   "id": "02f0dda9-4eb6-4425-b440-8b33e92ae0f8",
   "metadata": {},
   "outputs": [
    {
     "name": "stdout",
     "output_type": "stream",
     "text": [
      "Inside Nested Class\n",
      "Inside SomeOtherClass\n"
     ]
    }
   ],
   "source": [
    "public class SomeOtherClass extends OuterClass.NestedClass {\n",
    "    @Override\n",
    "    public void display() {\n",
    "        super.display();\n",
    "        System.out.println(\"Inside SomeOtherClass\");\n",
    "    }\n",
    "}\n",
    "\n",
    "SomeOtherClass some = new SomeOtherClass();\n",
    "some.display();"
   ]
  },
  {
   "cell_type": "markdown",
   "id": "33dc4e73-b48c-41d2-8b0f-f50706093485",
   "metadata": {},
   "source": [
    "#### Ex 3: Non static inner class inherited by different class"
   ]
  },
  {
   "cell_type": "code",
   "execution_count": 22,
   "id": "ac0fc3db-5208-4db8-8c07-97c5ecbcd79d",
   "metadata": {},
   "outputs": [],
   "source": [
    "class OuterClass {\n",
    "    class NestedClass {\n",
    "        public void display() {\n",
    "            System.out.println(\"Inside Nested Class\");\n",
    "        }\n",
    "    }\n",
    "}"
   ]
  },
  {
   "cell_type": "code",
   "execution_count": 23,
   "id": "9a776a85-92d1-4ec8-b72e-d1619834a68d",
   "metadata": {},
   "outputs": [
    {
     "name": "stdout",
     "output_type": "stream",
     "text": [
      "Inside Nested Class\n",
      "Inside SomeOtherClass\n"
     ]
    }
   ],
   "source": [
    "public class SomeOtherClass extends OuterClass.NestedClass {\n",
    "    \n",
    "    SomeOtherClass() {\n",
    "        // as you know, when child class constructor called, it first invoked the constructor of parent class.\n",
    "        // but here the parent is inner class, so it can only be accessible by the object of outer class only.\n",
    "        new OuterClass().super(); // confusing\n",
    "    }\n",
    "    \n",
    "    @Override\n",
    "    public void display() {\n",
    "        super.display();\n",
    "        System.out.println(\"Inside SomeOtherClass\");\n",
    "    }\n",
    "}\n",
    "\n",
    "SomeOtherClass some = new SomeOtherClass();\n",
    "some.display();"
   ]
  },
  {
   "cell_type": "markdown",
   "id": "6a829948-2972-4a00-8c34-d9b207a9fbfc",
   "metadata": {},
   "source": [
    "## Generic Class\n",
    "\n",
    "### Articles\n",
    "\n",
    "- [The Basics of Java Generics](https://www.baeldung.com/java-generics)\n",
    "- [Java Generics Interview Questions (+Answers)](https://www.baeldung.com/java-generics-interview-questions)\n",
    "\n",
    "### Videos\n",
    "\n",
    "- [Generics Part-1 || Introduction](https://www.youtube.com/watch?v=watjoMfP-3M)\n",
    "- [Generics Part-2 || time safety || type casting](https://www.youtube.com/watch?v=Z2h34SQCo4k)\n",
    "- [Generics Part-3 || time safety || type casting Examples](https://www.youtube.com/watch?v=JMneguQXeUE)\n",
    "- [Generics Part-4 || generics method ||generics wildcard characters(?)](https://www.youtube.com/watch?v=ANzefryEvRo)\n",
    "- [Generics Part-5 || generics method](https://www.youtube.com/watch?v=OddYBiLxZ9Y)"
   ]
  },
  {
   "cell_type": "code",
   "execution_count": 24,
   "id": "446cc2dd-5535-4782-b4ea-5428616991d0",
   "metadata": {},
   "outputs": [],
   "source": [
    "// Generic Object Class\n",
    "\n",
    "class Print {\n",
    "    Object value;\n",
    "\n",
    "    public Object getPrintValue() {\n",
    "        return this.value;\n",
    "    }\n",
    "\n",
    "    public void setPrintValue(Object value) {\n",
    "        this.value = value;\n",
    "    }\n",
    "}"
   ]
  },
  {
   "cell_type": "code",
   "execution_count": 25,
   "id": "654cf93b-30c2-4718-bba7-bf8569d65c43",
   "metadata": {},
   "outputs": [
    {
     "name": "stdout",
     "output_type": "stream",
     "text": [
      "10.0\n",
      "Hello, World\n"
     ]
    }
   ],
   "source": [
    "Print print = new Print();\n",
    "print.setPrintValue(10.0f);\n",
    "\n",
    "Object value = print.getPrintValue();\n",
    "System.out.println(value);\n",
    "\n",
    "// we can't to use value directly, we've to type caste before use it else get compile tme error\n",
    "if ((float)value == 10) {\n",
    "    System.out.println(\"Hello, World\");\n",
    "}"
   ]
  },
  {
   "cell_type": "markdown",
   "id": "f0fb735a-49ec-494b-bd32-900d4e150b81",
   "metadata": {},
   "source": [
    "One restriction of generics in Java is that the type (type $<T>$) parameter cannot be a primitive type.  \n",
    "It (type $<T>$) can be any non-primitive object."
   ]
  },
  {
   "cell_type": "code",
   "execution_count": 26,
   "id": "39fe7e30-ed1d-41c8-a534-f20c703df746",
   "metadata": {},
   "outputs": [],
   "source": [
    "class Print<T> {\n",
    "    T value;\n",
    "\n",
    "    public T getPrintValue() {\n",
    "        return value;\n",
    "    }\n",
    "\n",
    "    public void setPrintValue(T value) {\n",
    "        this.value = value;\n",
    "    }\n",
    "}"
   ]
  },
  {
   "cell_type": "code",
   "execution_count": 27,
   "id": "412152c4-5274-40d8-8815-8ce53ada7e53",
   "metadata": {},
   "outputs": [
    {
     "name": "stdout",
     "output_type": "stream",
     "text": [
      "10.0\n",
      "Hello, World\n"
     ]
    }
   ],
   "source": [
    "Print<Float> print = new Print<Float>();\n",
    "print.setPrintValue(10.0f);\n",
    "\n",
    "Float value = print.getPrintValue();\n",
    "System.out.println(value);\n",
    "\n",
    "if (value == 10) {\n",
    "    System.out.println(\"Hello, World\");\n",
    "}"
   ]
  },
  {
   "cell_type": "code",
   "execution_count": 28,
   "id": "4439a51c-89e5-47c9-86b4-b513817e35c8",
   "metadata": {},
   "outputs": [
    {
     "data": {
      "text/plain": [
       "true"
      ]
     },
     "execution_count": 28,
     "metadata": {},
     "output_type": "execute_result"
    }
   ],
   "source": [
    "10 == 10.0f;"
   ]
  },
  {
   "cell_type": "markdown",
   "id": "7b6cd4b9-2126-4f33-88c0-1c795632adcc",
   "metadata": {},
   "source": [
    "### Inheritance with Generic Class\n",
    "\n",
    "#### 1. Non Generic Subclass\n",
    "\n",
    "If the subclass is non-generic, then you've to explicitly define the type at the time of extension."
   ]
  },
  {
   "cell_type": "code",
   "execution_count": 29,
   "id": "c5ea965b-c7ee-45e9-9757-5203f2aa5fa2",
   "metadata": {},
   "outputs": [
    {
     "name": "stdout",
     "output_type": "stream",
     "text": [
      "Hello\n",
      "Non Generic\n"
     ]
    }
   ],
   "source": [
    "public class ColorPrint extends Print<String> {\n",
    "    @Override\n",
    "    public String getPrintValue() {\n",
    "        System.out.println(super.value);\n",
    "        return \"Non Generic\";\n",
    "    }\n",
    "}\n",
    "\n",
    "ColorPrint color_print = new ColorPrint();\n",
    "color_print.setPrintValue(\"Hello\");\n",
    "System.out.println(color_print.getPrintValue());"
   ]
  },
  {
   "cell_type": "markdown",
   "id": "58006054-ca5c-453a-ae49-98a375f3d7fc",
   "metadata": {},
   "source": [
    "#### 2. Generic Subclass"
   ]
  },
  {
   "cell_type": "code",
   "execution_count": 30,
   "id": "3f782514-b0d0-44ec-b002-2540e9ab8089",
   "metadata": {},
   "outputs": [
    {
     "name": "stdout",
     "output_type": "stream",
     "text": [
      "15\n"
     ]
    }
   ],
   "source": [
    "public class ColorPrint<T> extends Print<T> {\n",
    "    \n",
    "}\n",
    "\n",
    "ColorPrint<Integer> color_print = new ColorPrint<Integer>();\n",
    "color_print.setPrintValue(15);\n",
    "System.out.println(color_print.getPrintValue());"
   ]
  },
  {
   "cell_type": "markdown",
   "id": "c0133aee-146e-403f-a47f-67b6c1b3e009",
   "metadata": {},
   "source": [
    "##### More than one generic type examples"
   ]
  },
  {
   "cell_type": "code",
   "execution_count": 31,
   "id": "8ff5a658-d41e-44ec-b300-42a275ec15ca",
   "metadata": {},
   "outputs": [],
   "source": [
    "public class Pair<K, V> {\n",
    "    private K key;\n",
    "    private V value;\n",
    "    \n",
    "    public void put(K key, V value) {\n",
    "        this.key = key;\n",
    "        this.value = value;\n",
    "    }\n",
    "    \n",
    "    public String get() {\n",
    "        return (String)this.key;\n",
    "    }\n",
    "}"
   ]
  },
  {
   "cell_type": "code",
   "execution_count": 32,
   "id": "528c1935-36f6-4522-96d8-0740f54250c9",
   "metadata": {},
   "outputs": [
    {
     "data": {
      "text/plain": [
       "Hello"
      ]
     },
     "execution_count": 32,
     "metadata": {},
     "output_type": "execute_result"
    }
   ],
   "source": [
    "Pair<String, Integer> pair = new Pair<>();\n",
    "pair.put(\"Hello\", 520);\n",
    "pair.get();"
   ]
  },
  {
   "cell_type": "markdown",
   "id": "84cc76e3-6a08-4f0c-b4c4-0c79d2589db2",
   "metadata": {},
   "source": [
    "### Generic Method\n",
    "\n",
    "What if we only want to make methods generic, not the complete class?  \n",
    "We can write generic methods too.\n",
    "- Type parameter should be before the return type of the method declaration.\n",
    "- Type parameter scope is limited to method only."
   ]
  },
  {
   "cell_type": "code",
   "execution_count": 33,
   "id": "918cb749-9855-43da-a28f-1fcecc60e2ce",
   "metadata": {},
   "outputs": [],
   "source": [
    "public class GenericMethod {\n",
    "    public <K, V> void printValue(Pair<K, V> pair1, Pair<K, V> pair2) {\n",
    "        if (pair1.getKey().equals(pair2.getKey())) {\n",
    "            // do something\n",
    "        }\n",
    "    }\n",
    "}"
   ]
  },
  {
   "cell_type": "markdown",
   "id": "cff35840-39ee-4283-be4d-668844332d1b",
   "metadata": {},
   "source": [
    "### Raw type\n",
    "\n",
    "It's a name of the generic class or inerface without any type argument."
   ]
  },
  {
   "cell_type": "code",
   "execution_count": 34,
   "id": "9d6b949b-f3d3-4611-8651-440dc2d750e3",
   "metadata": {},
   "outputs": [
    {
     "data": {
      "text/plain": [
       "20.0"
      ]
     },
     "execution_count": 34,
     "metadata": {},
     "output_type": "execute_result"
    }
   ],
   "source": [
    "// generic way\n",
    "Print<Float> print = new Print<Float>();\n",
    "print.setPrintValue(20.0f);\n",
    "print.getPrintValue();"
   ]
  },
  {
   "cell_type": "code",
   "execution_count": 35,
   "id": "404c90d6-586a-4ebb-b850-b2411e7df6fa",
   "metadata": {},
   "outputs": [
    {
     "data": {
      "text/plain": [
       "100"
      ]
     },
     "execution_count": 35,
     "metadata": {},
     "output_type": "execute_result"
    }
   ],
   "source": [
    "// raw way\n",
    "Print raw_print = new Print();\n",
    "raw_print.setPrintValue(\"100\");\n",
    "raw_print.getPrintValue();"
   ]
  },
  {
   "cell_type": "markdown",
   "id": "c77ea144-9d77-43e2-9fa4-681b4582fc17",
   "metadata": {},
   "source": [
    "### Bounded Generics\n",
    "\n",
    "It can be used at generic class and methods\n",
    "\n",
    "#### Upper Bound\n",
    "\n",
    "`<T extends Number>` means `T` can be of type `Number` or its Subclass only. "
   ]
  },
  {
   "cell_type": "code",
   "execution_count": 36,
   "id": "b733b33b-67d2-425a-9289-c2e8713280ad",
   "metadata": {},
   "outputs": [
    {
     "data": {
      "text/plain": [
       "500"
      ]
     },
     "execution_count": 36,
     "metadata": {},
     "output_type": "execute_result"
    }
   ],
   "source": [
    "class Print<T extends Number> {\n",
    "    T value;\n",
    "\n",
    "    public T getPrintValue() {\n",
    "        return value;\n",
    "    }\n",
    "\n",
    "    public void setPrintValue(T value) {\n",
    "        this.value = value;\n",
    "    }\n",
    "}\n",
    "\n",
    "Print<Number> print2 = new Print<>();\n",
    "print2.setPrintValue(500);\n",
    "print2.getPrintValue();"
   ]
  },
  {
   "cell_type": "code",
   "execution_count": 37,
   "id": "161562ca-db2d-4217-b5a1-c55a6b1b7689",
   "metadata": {},
   "outputs": [
    {
     "data": {
      "text/plain": [
       "500.45"
      ]
     },
     "execution_count": 37,
     "metadata": {},
     "output_type": "execute_result"
    }
   ],
   "source": [
    "print2.setPrintValue(500.45f);\n",
    "print2.getPrintValue();"
   ]
  },
  {
   "cell_type": "markdown",
   "id": "cef73d57-73e8-4e2d-a947-3920b3d0411a",
   "metadata": {},
   "source": [
    "#### Multi Bound\n",
    "\n",
    "<T extends Superclass & Interface1 & InterfaceN>\n",
    "\n",
    "- The first restrictive type should be concrete class\n",
    "- 2, 3 and so on... can be interfaces"
   ]
  },
  {
   "cell_type": "code",
   "execution_count": 38,
   "id": "023a99ea-8133-4b6d-86de-74beb7ef5e14",
   "metadata": {},
   "outputs": [],
   "source": [
    "public class B {}\n",
    "\n",
    "public interface Interface1{}\n",
    "\n",
    "public interface Interface2{}\n",
    "\n",
    "// demo \n",
    "public class A extends B implements Interface1, Interface2 {\n",
    "    \n",
    "}\n",
    "\n",
    "// actual code\n",
    "public class Print<T extends B & Interface1 & Interface2 > {\n",
    "    \n",
    "}"
   ]
  },
  {
   "cell_type": "markdown",
   "id": "7751434b-f9e6-4e4f-a96b-e517891ff8f2",
   "metadata": {},
   "source": [
    "## Pojo Class\n",
    "\n",
    "- Stands for \"Plain Old Java Object\".\n",
    "- Contains variables and its getter and setter methods.\n",
    "- Class should be `public`.\n",
    "- Public default constructor.\n",
    "- No annotations should be used like `@Table`, `@Entity`, `@ld` etc..\n",
    "- It should not extend any class or implement any interface."
   ]
  },
  {
   "cell_type": "code",
   "execution_count": 39,
   "id": "e21b3318-bdbb-4930-9f97-6db3c00399a7",
   "metadata": {},
   "outputs": [],
   "source": [
    "class Student {\n",
    "    int id;\n",
    "    private String name;\n",
    "    protected String course;\n",
    "\n",
    "    Student() {\n",
    "        this.name = \"John Doe\";\n",
    "        this.id = 2;\n",
    "        this.course = \"CS\";\n",
    "    }\n",
    "\n",
    "    public String getName() {\n",
    "        return this.name;\n",
    "    }\n",
    "\n",
    "    public void setName(String name) {\n",
    "        this.name = name;\n",
    "    }\n",
    "\n",
    "    public int getId() {\n",
    "        return this.id;\n",
    "    }\n",
    "\n",
    "    public void setId(int id) {\n",
    "        this.id = id;\n",
    "    }\n",
    "\n",
    "    public String getCourse() {\n",
    "        return this.course;\n",
    "    }\n",
    "\n",
    "    public void setCourse(String course) {\n",
    "        this.course = course;\n",
    "    }\n",
    "}"
   ]
  },
  {
   "cell_type": "code",
   "execution_count": 40,
   "id": "00091932-029d-4823-8e74-84e9ab703698",
   "metadata": {},
   "outputs": [
    {
     "data": {
      "text/plain": [
       "CS"
      ]
     },
     "execution_count": 40,
     "metadata": {},
     "output_type": "execute_result"
    }
   ],
   "source": [
    "Student student = new Student();\n",
    "student.getCourse();"
   ]
  },
  {
   "cell_type": "code",
   "execution_count": 41,
   "id": "04e48a17-b05c-49ca-985b-c7aa8644e2ac",
   "metadata": {},
   "outputs": [],
   "source": [
    "student.setCourse(\"BBA\");"
   ]
  },
  {
   "cell_type": "code",
   "execution_count": 42,
   "id": "7d9bcd51-81bb-46ad-9eb5-420be6438ed5",
   "metadata": {},
   "outputs": [
    {
     "data": {
      "text/plain": [
       "BBA"
      ]
     },
     "execution_count": 42,
     "metadata": {},
     "output_type": "execute_result"
    }
   ],
   "source": [
    "student.getCourse();"
   ]
  },
  {
   "cell_type": "markdown",
   "id": "a74dcb40-c331-40e2-985c-6aaa86f67667",
   "metadata": {},
   "source": [
    "## Enum Class\n",
    "\n",
    "- It has a collection of CONSTANTS \n",
    "- It's CONSTANTS are `static` and `final` implicitly\n",
    "- It can't extend any class, as it internally extends `java.lang.Enum` class.\n",
    "- It can implement Interface.\n",
    "- It can have variables, constructors, and methods.\n",
    "- It can't be initiated\n",
    "    - as its constructor will be private only, even you give default, bytecode make it private\n",
    "- No other class can extend Enum class\n",
    "- It can have abstract methods, and all the CONSTANT should implement that abstract methods.\n",
    "\n",
    "### Videos\n",
    "\n",
    "- [Part- 1|| Introduction](https://www.youtube.com/watch?v=Q3zFdr1Ma34)\n",
    "- [Part- 2||enum vs inheritance](https://www.youtube.com/watch?v=UoStP4AueiU)\n",
    "- [Part- 3||enum vs constructor](https://www.youtube.com/watch?v=sxvmzpZw3g8)\n",
    "- [Attaching Values to Java Enum](https://www.baeldung.com/java-enum-values)\n",
    "- [A Guide to Java Enums](https://www.baeldung.com/a-guide-to-java-enums)\n",
    "\n",
    "### Normal Enum Class\n",
    "\n",
    "If we don't provide any value to enum, default value is set to 0 and goes on.\n",
    "\n",
    "There are 4 methods of enum:-\n",
    "\n",
    "- values()\n",
    "- ordinal()\n",
    "- valueOf()\n",
    "- name()"
   ]
  },
  {
   "cell_type": "code",
   "execution_count": 43,
   "id": "71571ad5-68ce-4f1d-ada1-7bcc3aedecf1",
   "metadata": {},
   "outputs": [],
   "source": [
    "public enum EnumSample {\n",
    "    MONDAY,\n",
    "    TUESDAY,\n",
    "    WEDNESDAY,\n",
    "    THURSDAY,\n",
    "    FRIDAY,\n",
    "    SATURDAY,\n",
    "    SUNDAY;\n",
    "}"
   ]
  },
  {
   "cell_type": "code",
   "execution_count": 44,
   "id": "58e2399c-8dbe-49cc-84f5-5cbe93551469",
   "metadata": {},
   "outputs": [
    {
     "name": "stdout",
     "output_type": "stream",
     "text": [
      "0\n",
      "1\n",
      "2\n",
      "3\n",
      "4\n",
      "5\n",
      "6\n"
     ]
    }
   ],
   "source": [
    "for (EnumSample sample: EnumSample.values()) {\n",
    "    System.out.println(sample.ordinal());\n",
    "}"
   ]
  },
  {
   "cell_type": "code",
   "execution_count": 45,
   "id": "47eeda70-b637-4420-a615-8a1accc367cc",
   "metadata": {},
   "outputs": [
    {
     "name": "stdout",
     "output_type": "stream",
     "text": [
      "MONDAY\n",
      "TUESDAY\n",
      "WEDNESDAY\n",
      "THURSDAY\n",
      "FRIDAY\n",
      "SATURDAY\n",
      "SUNDAY\n"
     ]
    }
   ],
   "source": [
    "for (EnumSample sample: EnumSample.values()) {\n",
    "    System.out.println(sample);\n",
    "}"
   ]
  },
  {
   "cell_type": "code",
   "execution_count": 46,
   "id": "46968267-67e0-4cbb-8974-51acb72a8712",
   "metadata": {},
   "outputs": [
    {
     "name": "stdout",
     "output_type": "stream",
     "text": [
      "SUNDAY\n",
      "SUNDAY\n"
     ]
    }
   ],
   "source": [
    "EnumSample sampleVariable = EnumSample.valueOf(\"SUNDAY\");\n",
    "System.out.println(sampleVariable.name());\n",
    "System.out.println(sampleVariable);"
   ]
  },
  {
   "cell_type": "markdown",
   "id": "53f4d7f0-d926-43dc-8cfe-bc90b074b7a6",
   "metadata": {},
   "source": [
    "### Enum with custom values"
   ]
  },
  {
   "cell_type": "code",
   "execution_count": 47,
   "id": "d98501cf-dcda-47e7-8164-e090d7ba88ee",
   "metadata": {},
   "outputs": [],
   "source": [
    "public enum EnumSample {\n",
    "    MONDAY (101, \"1st day of the week\"),\n",
    "    TUESDAY (102, \"2nd day of the week\"),\n",
    "    WEDNESDAY (103, \"3rd day of the week\"),\n",
    "    THURSDAY (104, \"4th day of the week\"),\n",
    "    FRIDAY (105, \"5th day of the week\"),\n",
    "    SATURDAY (106, \"1st day of the weekend\"),\n",
    "    SUNDAY (107, \"2nd day of the weekend\");\n",
    "\n",
    "    int val;\n",
    "    String comment;\n",
    "\n",
    "    EnumSample(int val, String comment) {\n",
    "        this.val = val;\n",
    "        this.comment = comment;\n",
    "    }\n",
    "\n",
    "    public int getValue(int val) {\n",
    "        return this.val;\n",
    "    }\n",
    "\n",
    "    public String getComment() {\n",
    "        return this.comment;\n",
    "    }\n",
    "\n",
    "    public static EnumSample getEnumFromVariable(int val) {\n",
    "        for (EnumSample sample: EnumSample.values()) {\n",
    "            if (sample.val == val) {\n",
    "                return sample;\n",
    "            }\n",
    "        }\n",
    "        return null;\n",
    "    }\n",
    "}"
   ]
  },
  {
   "cell_type": "code",
   "execution_count": 48,
   "id": "4649d95b-885a-4e2c-84a6-f8ee6191b09a",
   "metadata": {},
   "outputs": [
    {
     "name": "stdout",
     "output_type": "stream",
     "text": [
      "5th day of the week\n"
     ]
    }
   ],
   "source": [
    "EnumSample enumSample = EnumSample.getEnumFromVariable(105);\n",
    "System.out.println(enumSample.getComment()); // 5th day of the week"
   ]
  },
  {
   "cell_type": "markdown",
   "id": "749966d6-b7a6-449a-879b-c1828188217e",
   "metadata": {},
   "source": [
    "### Method override by CONSTANT"
   ]
  },
  {
   "cell_type": "code",
   "execution_count": 49,
   "id": "3965b96c-9f3d-4c40-bfc7-89e1261eb9db",
   "metadata": {},
   "outputs": [],
   "source": [
    "public enum EnumSample {\n",
    "    MONDAY {\n",
    "        @Override\n",
    "        public void dummyMethod() {\n",
    "            System.out.println(\"Dummy Monday\");\n",
    "        }\n",
    "    },\n",
    "    TUESDAY,\n",
    "    WEDNESDAY,\n",
    "    THURSDAY,\n",
    "    FRIDAY,\n",
    "    SATURDAY,\n",
    "    SUNDAY;\n",
    "\n",
    "    public void dummyMethod() {\n",
    "        System.out.println(\"Dummy Default\");\n",
    "    }\n",
    "}"
   ]
  },
  {
   "cell_type": "code",
   "execution_count": 50,
   "id": "37d9b848-a653-4de2-8223-e5f4274fa146",
   "metadata": {},
   "outputs": [
    {
     "name": "stdout",
     "output_type": "stream",
     "text": [
      "Dummy Default\n"
     ]
    }
   ],
   "source": [
    "EnumSample saturdayEnum = EnumSample.SATURDAY;\n",
    "saturdayEnum.dummyMethod(); // Dummy Default"
   ]
  },
  {
   "cell_type": "code",
   "execution_count": 51,
   "id": "4acc3386-666d-4789-a3f4-674423003f79",
   "metadata": {},
   "outputs": [
    {
     "name": "stdout",
     "output_type": "stream",
     "text": [
      "Dummy Monday\n"
     ]
    }
   ],
   "source": [
    "EnumSample mondayEnum = EnumSample.MONDAY;\n",
    "mondayEnum.dummyMethod(); // Dummy Monday"
   ]
  },
  {
   "cell_type": "markdown",
   "id": "81bc01ce-5873-467f-8da2-9ee3996e77fc",
   "metadata": {},
   "source": [
    "### Enum with abstract method"
   ]
  },
  {
   "cell_type": "code",
   "execution_count": 52,
   "id": "e6357f96-5051-4003-9b13-b64dbbf121d6",
   "metadata": {},
   "outputs": [],
   "source": [
    "public enum EnumSample {\n",
    "    MONDAY {\n",
    "        public void dummyMethod() {\n",
    "            System.out.println(\"Dummy Monday...\");\n",
    "        }\n",
    "    },\n",
    "    TUESDAY {\n",
    "        public void dummyMethod() {\n",
    "            System.out.println(\"Dummy Tuesday\");\n",
    "        }\n",
    "    };\n",
    "\n",
    "    public abstract void dummyMethod();\n",
    "}"
   ]
  },
  {
   "cell_type": "code",
   "execution_count": 53,
   "id": "9dead8b9-9838-4488-9b10-0d093ae1d36f",
   "metadata": {},
   "outputs": [
    {
     "name": "stdout",
     "output_type": "stream",
     "text": [
      "Dummy Monday...\n"
     ]
    }
   ],
   "source": [
    "EnumSample mondayEnum = EnumSample.MONDAY;\n",
    "mondayEnum.dummyMethod(); // Dummy Monday..."
   ]
  },
  {
   "cell_type": "markdown",
   "id": "7eea3cb8-7e6c-4d2e-b0d0-4c4e9a093218",
   "metadata": {},
   "source": [
    "### Enum implements Interface"
   ]
  },
  {
   "cell_type": "code",
   "execution_count": 54,
   "id": "357c7166-ed5e-4268-8012-e0ec9929d085",
   "metadata": {},
   "outputs": [
    {
     "data": {
      "text/plain": [
       "monday"
      ]
     },
     "execution_count": 54,
     "metadata": {},
     "output_type": "execute_result"
    }
   ],
   "source": [
    "public interface MyInterface {\n",
    "    public String toLowerCase();\n",
    "}\n",
    "\n",
    "public enum EnumSample implements MyInterface {\n",
    "    MONDAY,\n",
    "    TUESDAY,\n",
    "    WEDNESDAY,\n",
    "    THURSDAY,\n",
    "    FRIDAY,\n",
    "    SATURDAY,\n",
    "    SUNDAY;\n",
    "\n",
    "    @Override\n",
    "    public String toLowerCase() {\n",
    "        return this.name().toLowerCase();\n",
    "    }\n",
    "}\n",
    "\n",
    "EnumSample mondayEnum = EnumSample.MONDAY;\n",
    "mondayEnum.toLowerCase(); // monday"
   ]
  },
  {
   "cell_type": "markdown",
   "id": "77b3c166-a54e-42b4-bdf2-132d2d027ad7",
   "metadata": {},
   "source": [
    "### Advantages of Enum over constant variable"
   ]
  },
  {
   "cell_type": "code",
   "execution_count": 55,
   "id": "63156528-8431-4b05-b1be-34c260631c50",
   "metadata": {},
   "outputs": [],
   "source": [
    "public class WeekConstants {\n",
    "    static final int MONDAY = 0;\n",
    "    static final int TUESDAY = 1;\n",
    "    static final int WEDNESDAY = 2;\n",
    "    static final int THURSDAY = 3;\n",
    "    static final int FRIDAY = 4;\n",
    "    static final int SATURDAY = 5;\n",
    "    static final int SUNDAY = 6;\n",
    "}\n",
    "\n",
    "// better readability and full control what we can pass to the parameter\n",
    "public enum EnumSample {\n",
    "    MONDAY,\n",
    "    TUESDAY,\n",
    "    WEDNESDAY,\n",
    "    THURSDAY,\n",
    "    FRIDAY,\n",
    "    SATURDAY,\n",
    "    SUNDAY;\n",
    "}\n",
    "\n",
    "public static boolean isWeekend(int day) {\n",
    "    return (WeekConstants.SATURDAY == day || WeekConstants.SUNDAY == day);\n",
    "}\n",
    "\n",
    "public static boolean isWeekend(EnumSample day) {\n",
    "    return (EnumSample.SATURDAY == day || EnumSample.SUNDAY == day);\n",
    "}"
   ]
  },
  {
   "cell_type": "code",
   "execution_count": 56,
   "id": "86ad4e6d-28a3-4080-89d8-17253f5a3999",
   "metadata": {},
   "outputs": [
    {
     "data": {
      "text/plain": [
       "false"
      ]
     },
     "execution_count": 56,
     "metadata": {},
     "output_type": "execute_result"
    }
   ],
   "source": [
    "isWeekend(1);"
   ]
  },
  {
   "cell_type": "code",
   "execution_count": 57,
   "id": "1179372a-9929-4428-94d7-35be56e1512e",
   "metadata": {},
   "outputs": [
    {
     "data": {
      "text/plain": [
       "false"
      ]
     },
     "execution_count": 57,
     "metadata": {},
     "output_type": "execute_result"
    }
   ],
   "source": [
    "isWeekend(100);"
   ]
  },
  {
   "cell_type": "code",
   "execution_count": 58,
   "id": "0f0dc7e4-fe71-4a24-bb46-15c6f2011e24",
   "metadata": {},
   "outputs": [
    {
     "data": {
      "text/plain": [
       "true"
      ]
     },
     "execution_count": 58,
     "metadata": {},
     "output_type": "execute_result"
    }
   ],
   "source": [
    "isWeekend(6);"
   ]
  },
  {
   "cell_type": "code",
   "execution_count": 59,
   "id": "cf6970d6-268f-4123-920a-2135d64c8e24",
   "metadata": {},
   "outputs": [
    {
     "data": {
      "text/plain": [
       "true"
      ]
     },
     "execution_count": 59,
     "metadata": {},
     "output_type": "execute_result"
    }
   ],
   "source": [
    "isWeekend(EnumSample.SATURDAY);"
   ]
  },
  {
   "cell_type": "code",
   "execution_count": 60,
   "id": "6d3bb02d-5d65-41ee-8885-dbab91eb6523",
   "metadata": {},
   "outputs": [
    {
     "data": {
      "text/plain": [
       "false"
      ]
     },
     "execution_count": 60,
     "metadata": {},
     "output_type": "execute_result"
    }
   ],
   "source": [
    "isWeekend(EnumSample.MONDAY);"
   ]
  },
  {
   "cell_type": "markdown",
   "id": "379d90aa-edbd-44a6-aa02-b37b69ad0874",
   "metadata": {},
   "source": [
    "### Wildcard vs Generic Method\n",
    "\n",
    "- [Advantages and Disadvantages of Using Java Wildcard Imports](https://www.baeldung.com/java-wildcard-imports)\n",
    "- [Type Parameter vs Wildcard in Java Generics](https://www.baeldung.com/java-generics-type-parameter-vs-wildcard)"
   ]
  },
  {
   "cell_type": "markdown",
   "id": "87995aed-4931-4335-b6f0-394180c1a490",
   "metadata": {},
   "source": [
    "## Singleton Class \n",
    "\n",
    "This class objective is to create only one and one object.\n",
    "\n",
    "Different ways to create Singleton Class:\n",
    "\n",
    "- Eager Initialization\n",
    "- Lazy Initialization\n",
    "- Synchronization Block\n",
    "- Double Check Lock (there is a memory issue, received through `volatile` instance variables)\n",
    "- Bill Pug Solution\n",
    "- Enum Singleton\n",
    "\n",
    "### Eager Initialization"
   ]
  },
  {
   "cell_type": "code",
   "execution_count": 61,
   "id": "f97fca01-9296-49ca-ab29-fd9aa00db140",
   "metadata": {},
   "outputs": [],
   "source": [
    "public class DBConnection {\n",
    "    private static DBConnection conObject = new DBConnection();\n",
    "    private DBConnection() {\n",
    "\n",
    "    }\n",
    "\n",
    "    public static DBConnection getInstance() {\n",
    "        return conObject;\n",
    "    }\n",
    "}\n",
    "\n",
    "DBConnection conObject = DBConnection.getInstance();"
   ]
  },
  {
   "cell_type": "markdown",
   "id": "5a01f0a4-c44a-49db-9ade-83a256128529",
   "metadata": {},
   "source": [
    "### Lazy Initialization"
   ]
  },
  {
   "cell_type": "code",
   "execution_count": 62,
   "id": "dc1565d1-2e13-484a-989e-ad8300a1f711",
   "metadata": {},
   "outputs": [],
   "source": [
    "public class DBConnection {\n",
    "    private static DBConnection conObject;\n",
    "    private DBConnection() {\n",
    "\n",
    "    }\n",
    "\n",
    "    public static DBConnection getInstance() {\n",
    "        if (conObject == null) {\n",
    "            conObject = new DBConnection();\n",
    "        }\n",
    "        return conObject;\n",
    "    }\n",
    "}"
   ]
  },
  {
   "cell_type": "markdown",
   "id": "318750c5-c125-4f65-bad5-54209cef3464",
   "metadata": {},
   "source": [
    "### Synchronization Block"
   ]
  },
  {
   "cell_type": "code",
   "execution_count": 63,
   "id": "3557aa1a-3d7b-4ab3-bd26-f573ea66581c",
   "metadata": {},
   "outputs": [],
   "source": [
    "public class DBConnection {\n",
    "    private static DBConnection conObject;\n",
    "    private DBConnection() {\n",
    "\n",
    "    }\n",
    "\n",
    "    synchronized public static DBConnection getInstance() {\n",
    "        if (conObject == null) {\n",
    "            conObject = new DBConnection();\n",
    "        }\n",
    "        return conObject;\n",
    "    }\n",
    "}"
   ]
  },
  {
   "cell_type": "markdown",
   "id": "a0d97e15-1ef9-46af-9d72-1537a91cc5fa",
   "metadata": {},
   "source": [
    "### Double Check Lock"
   ]
  },
  {
   "cell_type": "code",
   "execution_count": 64,
   "id": "a30ef7e1-5f1c-4734-bdec-7b950472524e",
   "metadata": {},
   "outputs": [],
   "source": [
    "public class DBConnection {\n",
    "    private static volatile DBConnection conObject;\n",
    "    private DBConnection() {\n",
    "\n",
    "    }\n",
    "\n",
    "    public static DBConnection getInstance() {\n",
    "        if (conObject == null) {\n",
    "            synchronized (DBConnection.class) {\n",
    "                if (conObject == null) {\n",
    "                    conObject = new DBConnection();\n",
    "                }\n",
    "            }\n",
    "        }\n",
    "        return conObject;\n",
    "    }\n",
    "}"
   ]
  },
  {
   "cell_type": "markdown",
   "id": "436c4671-f5ad-4eb5-abf2-8e2d19751db2",
   "metadata": {},
   "source": [
    "### Bill Pug Solution"
   ]
  },
  {
   "cell_type": "code",
   "execution_count": 65,
   "id": "0bd86d0b-cd40-41fb-a407-2c9fd416b9f1",
   "metadata": {},
   "outputs": [],
   "source": [
    "public class DBConnection {\n",
    "    private DBConnection() {\n",
    "\n",
    "    }\n",
    "\n",
    "    private static class DBConnectionHelper {\n",
    "        private static final DBConnection INSTANCE_OBJECT = new DBConnection();\n",
    "    }\n",
    "\n",
    "    public static DBConnection getInstance() {\n",
    "        return DBConnectionHelper.INSTANCE_OBJECT;\n",
    "    }\n",
    "}"
   ]
  },
  {
   "cell_type": "markdown",
   "id": "67fddd16-6ab8-459b-bd63-8530172bc859",
   "metadata": {},
   "source": [
    "### Enum Singleton"
   ]
  },
  {
   "cell_type": "code",
   "execution_count": 66,
   "id": "cfcfd92d-33aa-4f6b-baed-b926d2ff90f6",
   "metadata": {},
   "outputs": [],
   "source": [
    "enum DBConnection {\n",
    "    INSTANCE_OBJECT;\n",
    "}"
   ]
  },
  {
   "cell_type": "markdown",
   "id": "8d2ecfa1-76bd-49b8-aef0-648640e14884",
   "metadata": {},
   "source": [
    "## Immutable Class \n",
    "\n",
    "- We can't change the value of an object once it is created\n",
    "- Declare class as `final` so that it can't be extended.\n",
    "- All class members should be private, so that direct access can be avoided.\n",
    "- And class members are initialized only once using constructor\n",
    "- There should not be any setter methods, which is generally use to change the value.\n",
    "- Just getter methods and returns copy of the member variables.\n",
    "- Example- `String`, `Wrapper` class"
   ]
  },
  {
   "cell_type": "code",
   "execution_count": 67,
   "id": "4135bf3f-bcce-4ba2-b8aa-91c362dce5b6",
   "metadata": {},
   "outputs": [],
   "source": [
    "final class MyImutableClass {\n",
    "    private final String name;\n",
    "    private final List<Object> getNameList;\n",
    "\n",
    "    MyImutableClass(String name, List<Object> nameList) {\n",
    "        this.name = name;\n",
    "        this.getNameList = nameList;\n",
    "    }\n",
    "\n",
    "    public String getName() {\n",
    "        return this.name;\n",
    "    }\n",
    "\n",
    "    public List<Object> getNameList() {\n",
    "        // this is required, because making list final.\n",
    "        // means you can't now point it to new list, but still can add, deelte values in it\n",
    "        // so that's why we send the copy of it.\n",
    "        return new ArrayList<>(getNameList);\n",
    "    }\n",
    "}"
   ]
  },
  {
   "cell_type": "code",
   "execution_count": 68,
   "id": "b1c1d45e-7a85-4416-bbfd-61f06f648e74",
   "metadata": {},
   "outputs": [
    {
     "data": {
      "text/plain": [
       "true"
      ]
     },
     "execution_count": 68,
     "metadata": {},
     "output_type": "execute_result"
    }
   ],
   "source": [
    "List<Object> petNames = new ArrayList<>();\n",
    "petNames.add(\"A\");\n",
    "petNames.add(\"B\");"
   ]
  },
  {
   "cell_type": "code",
   "execution_count": 69,
   "id": "7ea562ce-c221-483f-b311-a223a028abdb",
   "metadata": {},
   "outputs": [
    {
     "name": "stdout",
     "output_type": "stream",
     "text": [
      "[A, B]\n"
     ]
    }
   ],
   "source": [
    "MyImutableClass obj = new MyImutableClass(\"MyName\", petNames);\n",
    "obj.getNameList().add(\"C\");\n",
    "System.out.println(obj.getNameList());"
   ]
  }
 ],
 "metadata": {
  "kernelspec": {
   "display_name": "Java",
   "language": "java",
   "name": "java"
  },
  "language_info": {
   "codemirror_mode": "java",
   "file_extension": ".jshell",
   "mimetype": "text/x-java-source",
   "name": "Java",
   "pygments_lexer": "java",
   "version": "11.0.8+10-LTS"
  }
 },
 "nbformat": 4,
 "nbformat_minor": 5
}
