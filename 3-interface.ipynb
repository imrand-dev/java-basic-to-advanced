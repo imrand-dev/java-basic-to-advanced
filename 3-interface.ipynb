{
 "cells": [
  {
   "cell_type": "markdown",
   "id": "23cef92d-0be4-4cad-8117-626448ab412b",
   "metadata": {},
   "source": [
    "# Session 14, 15, 16 - Interface\n",
    "\n",
    "- [Java Interfaces](https://www.baeldung.com/java-interfaces) `article`\n",
    "\n",
    "## What is an Interface?\n",
    "\n",
    "Interface is something which helps 2 system to interact with each other, without one system has to know the details of other. Or in simple term I can say, it helps to achieve ABSTRACTION.\n",
    "\n",
    "## How to define the interface?\n",
    "\n",
    "Interface declaration consist of \n",
    "- Modifiers\n",
    "- `interface` keyword\n",
    "- Interface Name\n",
    "- Comma separated list of parent interfaces\n",
    "- Body\n",
    "\n",
    "> Only `public` and `default` Modifiers are allowed (`protected` and `private` are not allowed)"
   ]
  },
  {
   "cell_type": "code",
   "execution_count": 1,
   "id": "3f8215d4-a881-4b7e-8751-499ab3520eb1",
   "metadata": {},
   "outputs": [],
   "source": [
    "// public interface\n",
    "public interface BigBird {\n",
    "    public void fly();\n",
    "}"
   ]
  },
  {
   "cell_type": "code",
   "execution_count": 2,
   "id": "fa9821fc-8c6b-4924-a433-0f1158805574",
   "metadata": {},
   "outputs": [],
   "source": [
    "// default interface\n",
    "interface SmallBird {\n",
    "    public void fly();\n",
    "}"
   ]
  },
  {
   "cell_type": "code",
   "execution_count": 3,
   "id": "858d7436-6b9b-442e-84d0-c588eb6fcc61",
   "metadata": {},
   "outputs": [],
   "source": [
    "// Comma separated list of parent interfaces (can't extend from `class`)\n",
    "\n",
    "public interface NonflyingBird extends SmallBird, BigBird {\n",
    "    public void canRun();\n",
    "}"
   ]
  },
  {
   "cell_type": "markdown",
   "id": "2a951972-93d2-40e9-8b79-4265f229c730",
   "metadata": {},
   "source": [
    "## Why we need Interface?\n",
    " \n",
    "### 1. Abstraction:\n",
    "\n",
    "Using `interface`, we can achieve full Abstraction means, we can define WHAT class must do, but not HOW it will do..."
   ]
  },
  {
   "cell_type": "code",
   "execution_count": 4,
   "id": "2a4e7ae2-462b-4f51-9899-71e5d31d1124",
   "metadata": {},
   "outputs": [],
   "source": [
    "public interface Bird {\n",
    "    void fly();\n",
    "}"
   ]
  },
  {
   "cell_type": "code",
   "execution_count": 5,
   "id": "aa5857c5-4cc7-48b0-8caa-acb311a235bf",
   "metadata": {},
   "outputs": [],
   "source": [
    "public class Eagle implements Bird {\n",
    "    @Override\n",
    "    public void fly() {\n",
    "        System.out.println(\"Eagle Can fly\");\n",
    "    }\n",
    "}"
   ]
  },
  {
   "cell_type": "markdown",
   "id": "b9556c7f-035a-4c93-85f9-4f162a1adbf3",
   "metadata": {},
   "source": [
    "### 2. Polymorphism:\n",
    "\n",
    "- Interface can be used as a Data Type.\n",
    "- we can not create the object of an `interface`, but it can hold the reference of all the classes which `implements` it. And at runtime, it decide which method need to be invoked."
   ]
  },
  {
   "cell_type": "code",
   "execution_count": 6,
   "id": "2457a031-c115-46b7-867a-b9bdf1e395bf",
   "metadata": {},
   "outputs": [],
   "source": [
    "public class Hen implements Bird {\n",
    "    @Override\n",
    "    public void fly() {\n",
    "        System.out.println(\"Hen Can't fly\");\n",
    "    }\n",
    "}"
   ]
  },
  {
   "cell_type": "code",
   "execution_count": 7,
   "id": "af5042d5-4064-4c19-afa5-0b976584fe1b",
   "metadata": {},
   "outputs": [
    {
     "name": "stdout",
     "output_type": "stream",
     "text": [
      "Eagle Can fly\n"
     ]
    }
   ],
   "source": [
    "Bird obj1 = new Eagle();\n",
    "Bird obj2 = new Hen();\n",
    "\n",
    "obj1.fly();"
   ]
  },
  {
   "cell_type": "code",
   "execution_count": 8,
   "id": "c8dda1ce-8118-46e7-a6d1-e38778403132",
   "metadata": {},
   "outputs": [
    {
     "name": "stdout",
     "output_type": "stream",
     "text": [
      "Hen Can't fly\n"
     ]
    }
   ],
   "source": [
    "obj2.fly();"
   ]
  },
  {
   "cell_type": "markdown",
   "id": "d0edd14d-77f1-496c-8dc5-edb075449925",
   "metadata": {},
   "source": [
    "### 3. Multiple Inheritance:\n",
    "\n",
    "In Java Multiple Inheritance is possible only through `interface`.\n",
    "\n",
    "#### Diamond Problem\n",
    "\n",
    "Multiple Inheritance is not allowed in Java Class."
   ]
  },
  {
   "cell_type": "code",
   "execution_count": 9,
   "id": "ee72ac37-0cc3-47d5-a5eb-d150b918b7b3",
   "metadata": {},
   "outputs": [],
   "source": [
    "public class WaterAnimal {\n",
    "    public boolean canBreathe() {\n",
    "        return true;\n",
    "    }\n",
    "}"
   ]
  },
  {
   "cell_type": "code",
   "execution_count": 10,
   "id": "febb4f73-a8e6-4fb9-8362-aa0f5afb25e6",
   "metadata": {},
   "outputs": [],
   "source": [
    "public class LandAnimal {\n",
    "    public boolean canBreathe() {\n",
    "        return true;\n",
    "    }\n",
    "}"
   ]
  },
  {
   "cell_type": "code",
   "execution_count": 11,
   "id": "2d78539f-e0e2-4804-9b07-df8df7d27c9c",
   "metadata": {},
   "outputs": [
    {
     "ename": "CompilationException",
     "evalue": "",
     "output_type": "error",
     "traceback": [
      "\u001b[1m\u001b[30m|   \u001b[1m\u001b[30mpublic class Crocodile extends LandAnimal\u001b[0m\u001b[1m\u001b[30m\u001b[41m\u001b[0m\u001b[1m\u001b[30m, WaterAnimal {\u001b[0m",
      "\u001b[1m\u001b[31m'{' expected\u001b[0m",
      ""
     ]
    }
   ],
   "source": [
    "public class Crocodile extends LandAnimal, WaterAnimal {\n",
    "    \n",
    "}"
   ]
  },
  {
   "cell_type": "markdown",
   "id": "f0d4737f-84b0-409f-9c02-ed88cdfd8b43",
   "metadata": {},
   "source": [
    "But Multiple Inheritance is possible via Interface"
   ]
  },
  {
   "cell_type": "code",
   "execution_count": 12,
   "id": "f9d9e64d-eee4-42a7-b615-a1a765c0369d",
   "metadata": {},
   "outputs": [],
   "source": [
    "public interface LandAnimal {\n",
    "    public void canBreathe();\n",
    "}"
   ]
  },
  {
   "cell_type": "code",
   "execution_count": 13,
   "id": "a1d448d2-cbb4-46df-971c-f798a132a3fb",
   "metadata": {},
   "outputs": [],
   "source": [
    "public interface WaterAnimal {\n",
    "    public void canBreathe();\n",
    "}"
   ]
  },
  {
   "cell_type": "code",
   "execution_count": 14,
   "id": "8917aa19-36ab-4904-bb56-7f731769905d",
   "metadata": {},
   "outputs": [],
   "source": [
    "public class Crocodile implements LandAnimal, WaterAnimal{\n",
    "    @Override\n",
    "    public void canBreathe() {\n",
    "        System.out.println(\"Crocodile can breadth\");\n",
    "    }\n",
    "}"
   ]
  },
  {
   "cell_type": "markdown",
   "id": "4cbf3b8d-e043-4207-bff0-19e14df35c63",
   "metadata": {
    "tags": []
   },
   "source": [
    "## Methods in Interface\n",
    "\n",
    "- All methods are implicitly `public`.\n",
    "- Method can't be declared as `final`."
   ]
  },
  {
   "cell_type": "code",
   "execution_count": 15,
   "id": "103d3cb3-5bed-4378-ad31-adae3d4b13ae",
   "metadata": {},
   "outputs": [],
   "source": [
    "public interface Bird {\n",
    "    void fly();\n",
    "}"
   ]
  },
  {
   "cell_type": "markdown",
   "id": "22e3b58f-71a1-4000-8b93-82f752d28777",
   "metadata": {},
   "source": [
    "#### =="
   ]
  },
  {
   "cell_type": "code",
   "execution_count": 16,
   "id": "69a30694-1f26-491d-9231-0a4962fe3e6b",
   "metadata": {},
   "outputs": [],
   "source": [
    "public interface Bird {\n",
    "    public void fly();\n",
    "}"
   ]
  },
  {
   "cell_type": "markdown",
   "id": "12beddb8-80d2-465f-975b-b7725189f3dc",
   "metadata": {},
   "source": [
    "## Fields in Interface\n",
    "\n",
    "- Fields are `public`, `static` and `final` implicitly aka constant variable\n",
    "- You can't make field `private` or `protected`"
   ]
  },
  {
   "cell_type": "code",
   "execution_count": 17,
   "id": "65f69181-512e-413f-b08b-ad829f0389a7",
   "metadata": {},
   "outputs": [],
   "source": [
    "public interface Bird {\n",
    "    int MAX_HEIGHT_IN_FEET = 2000;\n",
    "}"
   ]
  },
  {
   "cell_type": "markdown",
   "id": "c485e90d-f268-4b79-8a1a-673a441c6621",
   "metadata": {},
   "source": [
    "=="
   ]
  },
  {
   "cell_type": "code",
   "execution_count": 18,
   "id": "756f66eb-6743-4243-8cbe-c89f090e171a",
   "metadata": {},
   "outputs": [],
   "source": [
    "public interface Bird {\n",
    "    public static final int MAX_HEIGHT_IN_FEET = 2000;\n",
    "}"
   ]
  },
  {
   "cell_type": "markdown",
   "id": "68de18b5-7045-4849-8149-9424a4e482e9",
   "metadata": {},
   "source": [
    "## Interface Implementation\n",
    "\n",
    "- Overriding method can not have more restrict access specifiers.\n",
    "- Concrete class must override all the methods declared in the interface.\n",
    "- Abstract classes are not forced to override all the methods.\n",
    "- A class can implement from multiple interfaces."
   ]
  },
  {
   "cell_type": "code",
   "execution_count": 19,
   "id": "adc8b13a-0dd2-44e6-b392-ceeacbff08bc",
   "metadata": {},
   "outputs": [],
   "source": [
    "public interface Bird {\n",
    "    public void fly();\n",
    "}"
   ]
  },
  {
   "cell_type": "code",
   "execution_count": 20,
   "id": "ab296f5d-1581-4d25-9586-13ad3a6dedf6",
   "metadata": {},
   "outputs": [],
   "source": [
    "public class Sparrow implements Bird {\n",
    "    @Override\n",
    "    public void fly() {\n",
    "        System.out.println(\"Flying\");\n",
    "    }\n",
    "}"
   ]
  },
  {
   "cell_type": "code",
   "execution_count": 21,
   "id": "1126be83-7432-49b8-822b-a386ade1e7bb",
   "metadata": {},
   "outputs": [
    {
     "ename": "CompilationException",
     "evalue": "",
     "output_type": "error",
     "traceback": [
      "\u001b[1m\u001b[30m|   \u001b[1m\u001b[30m    \u001b[0m\u001b[1m\u001b[30m\u001b[41m@Override\u001b[0m",
      "\u001b[1m\u001b[30m|   \u001b[1m\u001b[30m\u001b[41m    protected void fly() {\u001b[0m",
      "\u001b[1m\u001b[30m|   \u001b[1m\u001b[30m\u001b[41m        System.out.println(\"Flying\");\u001b[0m",
      "\u001b[1m\u001b[30m|   \u001b[1m\u001b[30m\u001b[41m    }\u001b[0m",
      "\u001b[1m\u001b[31mfly() in Sparrow cannot implement fly() in Bird\u001b[0m",
      "\u001b[1m\u001b[31m  attempting to assign weaker access privileges; was public\u001b[0m",
      ""
     ]
    }
   ],
   "source": [
    "// can't be anything except public\n",
    "public class Sparrow implements Bird {\n",
    "    @Override\n",
    "    protected void fly() {\n",
    "        System.out.println(\"Flying\");\n",
    "    }\n",
    "} "
   ]
  },
  {
   "cell_type": "markdown",
   "id": "5e7a369c-1114-474b-a234-4f1f316bb858",
   "metadata": {
    "tags": []
   },
   "source": [
    "### Example of abstract class implements interface"
   ]
  },
  {
   "cell_type": "code",
   "execution_count": 22,
   "id": "3109a662-e8cc-4afb-9fee-1d8a2148397d",
   "metadata": {},
   "outputs": [],
   "source": [
    "public interface Bird {\n",
    "    public void canfly();\n",
    "    public void noOfLegs();\n",
    "}"
   ]
  },
  {
   "cell_type": "code",
   "execution_count": 23,
   "id": "dfa74586-4082-4022-9d1b-3c9f13f114d9",
   "metadata": {},
   "outputs": [],
   "source": [
    "// In abstract class it's not mandatory to implement all interface methods but concrete class must\n",
    "\n",
    "public abstract class Eagle implements Bird {\n",
    "    @Override\n",
    "    public void canfly() {\n",
    "        // implementation\n",
    "    }\n",
    "    \n",
    "    public abstract void beakLength();\n",
    "}"
   ]
  },
  {
   "cell_type": "code",
   "execution_count": 24,
   "id": "0352fdd0-6b5b-47bf-9e9d-fedb32da0048",
   "metadata": {},
   "outputs": [],
   "source": [
    "public class WhiteEagle extends Eagle {\n",
    "    @Override\n",
    "    public void noOfLegs() {\n",
    "        // implementation\n",
    "    }\n",
    "    \n",
    "    @Override\n",
    "    public void beakLength() {\n",
    "        // implementation\n",
    "    }\n",
    "}"
   ]
  },
  {
   "cell_type": "markdown",
   "id": "6ebecdeb-8058-43f7-92eb-162e05664483",
   "metadata": {},
   "source": [
    "## Nested Interface\n",
    "\n",
    "- Nested Interface can declared within another Interface.\n",
    "- Nested Interface can declared within a Class.\n",
    "\n",
    "Generally it is used to group, logical related interfaced.\n",
    "\n",
    "- [A Guide to Inner Interfaces in Java](https://www.baeldung.com/java-inner-interfaces)\n",
    "\n",
    "### Rules:\n",
    "\n",
    "- A nested interface declared within an interface must be `public`.\n",
    "- A nested interface declared within a class can have any access modifier.\n",
    "- When you implement outer interface, inner interface implementation is not required and vice versa.\n",
    "\n",
    "### Interface within another Interface"
   ]
  },
  {
   "cell_type": "code",
   "execution_count": 25,
   "id": "d854965b-f971-4d6c-968b-8b95db9ec365",
   "metadata": {},
   "outputs": [],
   "source": [
    "public interface Bird {\n",
    "    public void canFly();\n",
    "    \n",
    "    public interface NonFlyingBird {\n",
    "        void canRun();\n",
    "    }\n",
    "}"
   ]
  },
  {
   "cell_type": "code",
   "execution_count": 26,
   "id": "6d324afa-5710-46d4-8c41-832e8c6cb4cf",
   "metadata": {},
   "outputs": [],
   "source": [
    "// implements only outer interface\n",
    "public class Sparrow implements Bird {\n",
    "    @Override\n",
    "    public void canFly() {\n",
    "        // ...\n",
    "    }\n",
    "}"
   ]
  },
  {
   "cell_type": "code",
   "execution_count": 27,
   "id": "51504567-fa72-4fda-b313-7f5b6f7883cc",
   "metadata": {},
   "outputs": [],
   "source": [
    "// implements only nested interface\n",
    "public class Sparrow implements Bird.NonFlyingBird {\n",
    "    @Override\n",
    "    public void canRun() {\n",
    "       System.out.println(\"Sparrow can Run\");\n",
    "    }\n",
    "}"
   ]
  },
  {
   "cell_type": "code",
   "execution_count": 28,
   "id": "aa142c69-b130-4867-99ab-b7355b9c2322",
   "metadata": {},
   "outputs": [
    {
     "name": "stdout",
     "output_type": "stream",
     "text": [
      "Sparrow can Run\n"
     ]
    }
   ],
   "source": [
    "Bird.NonFlyingBird obj = new Sparrow();\n",
    "obj.canRun();"
   ]
  },
  {
   "cell_type": "code",
   "execution_count": 29,
   "id": "425f09a0-2bdf-4b78-8d23-7a65f72c4348",
   "metadata": {},
   "outputs": [],
   "source": [
    "// implements only multiple interfaces\n",
    "public class Sparrow implements Bird, Bird.NonFlyingBird {\n",
    "    @Override\n",
    "    public void canRun() {\n",
    "       System.out.println(\"Sparrow can Run\");\n",
    "    }\n",
    "    \n",
    "    @Override\n",
    "    public void canFly() {\n",
    "       System.out.println(\"Sparrow can Fly\");\n",
    "    }\n",
    "}"
   ]
  },
  {
   "cell_type": "code",
   "execution_count": 30,
   "id": "28feab2d-86bb-4920-99f7-71ac9e3b9e0f",
   "metadata": {},
   "outputs": [
    {
     "ename": "CompilationException",
     "evalue": "",
     "output_type": "error",
     "traceback": [
      "\u001b[1m\u001b[30m|   \u001b[1m\u001b[30m\u001b[0m\u001b[1m\u001b[30m\u001b[41mobj.canRun\u001b[0m\u001b[1m\u001b[30m();\u001b[0m",
      "\u001b[1m\u001b[31mcannot find symbol\u001b[0m",
      "\u001b[1m\u001b[31m  symbol:   method canRun()\u001b[0m",
      ""
     ]
    }
   ],
   "source": [
    "Bird obj = new Sparrow();\n",
    "obj.canRun();"
   ]
  },
  {
   "cell_type": "code",
   "execution_count": 31,
   "id": "14c428cd-2911-4a82-bebf-352d457ea90c",
   "metadata": {},
   "outputs": [
    {
     "name": "stdout",
     "output_type": "stream",
     "text": [
      "Sparrow can Fly\n"
     ]
    }
   ],
   "source": [
    "Bird obj = new Sparrow();\n",
    "obj.canFly();"
   ]
  },
  {
   "cell_type": "markdown",
   "id": "77125bd6-91fe-43e5-9694-801c8f60fbc6",
   "metadata": {},
   "source": [
    "### Interface within a Class"
   ]
  },
  {
   "cell_type": "code",
   "execution_count": 32,
   "id": "b7689e44-b00a-429f-9e41-9b008e43f692",
   "metadata": {},
   "outputs": [],
   "source": [
    "public class Bird {\n",
    "    // modifier can be anything\n",
    "    protected interface NonFlyingBird {\n",
    "        void canRun();\n",
    "    }\n",
    "}"
   ]
  },
  {
   "cell_type": "code",
   "execution_count": 33,
   "id": "df6d3175-7b9e-4773-9e0e-40a24b8cfcaa",
   "metadata": {},
   "outputs": [],
   "source": [
    "public class Eagle implements Bird.NonFlyingBird {\n",
    "    @Override\n",
    "    public void canRun() {\n",
    "        // ...\n",
    "    }\n",
    "}"
   ]
  },
  {
   "cell_type": "markdown",
   "id": "0d22ddb2-6a1d-4271-b715-17a275db4ace",
   "metadata": {},
   "source": [
    "## Interface vs Abstract\n",
    "\n",
    "- [Using an Interface vs. Abstract Class in Java](https://www.baeldung.com/java-interface-vs-abstract-class)\n",
    "\n",
    "| No |                           Abstract Class                          |                                     Interface                                     |\n",
    "|----|:-----------------------------------------------------------------:|:---------------------------------------------------------------------------------:|\n",
    "| 1  | Keyword is used here is `abstract`.                               | Keyword is used here is `interface`.                                              |\n",
    "| 2  | Child classes need to use keyword `extends`.                      | Child classes need to use keyword `implements`.                                   |\n",
    "| 3  | It can have both abstract and non-abstract methods.               | It can have only abstract methods.                                                |\n",
    "| 4  | It can extend from another class and multiple interfaces.         | It can only extend from another interfaces.                                       |\n",
    "| 5  | Variables can be static, non-static, final                        | Variables are default by Constants.                                               |\n",
    "| 6  | Variables and Methods can be private, protected, public, default. | Variables and Methods are by default public                                       |\n",
    "| 7  | Multiple Inheritance is not Supported.                            | Multiple Inheritance is Supported.                                                 |\n",
    "| 8  | It can provide the implementation of the `interface`.             | It can't provide the implementation of any other `interface` or `abstract` class. |\n",
    "| 9  | It can have Constructor.                                          | It can't have Constructor.                                                        |\n",
    "| 10 | `abstract` keyword is used to declare method as `abstract`        | No need keyword is used to make method as `abstract`.                             |"
   ]
  },
  {
   "cell_type": "markdown",
   "id": "cb9cb144-c70d-4e26-ae47-905995f438b7",
   "metadata": {},
   "source": [
    "## Java 8 Interface Features\n",
    "\n",
    "- [Static and Default Methods in Interfaces in Java](https://www.baeldung.com/java-static-default-methods)\n",
    "- [Interface With Default Methods vs Abstract Class](https://www.baeldung.com/java-interface-default-method-vs-abstract-class)\n",
    "- [Java 8 Interview Questions(+ Answers)](https://www.baeldung.com/java-8-interview-questions)\n",
    "\n",
    "### Features\n",
    "\n",
    "- Default Method\n",
    "- Static Method\n",
    "- Functional Interface and lambda expression\n",
    "\n",
    "### Default Method\n",
    "\n",
    "Before Java 8 Interface can have only abstract methods and all child classes have to provide abstract methods implementation."
   ]
  },
  {
   "cell_type": "code",
   "execution_count": 34,
   "id": "8dd1f2f4-6e50-4b1b-8dff-9ad93235aa11",
   "metadata": {},
   "outputs": [],
   "source": [
    "public interface Bird {\n",
    "    public void canFly(); // same as public abstract void canFly();\n",
    "}\n",
    "\n",
    "public class Eagle implements Bird {\n",
    "    @Override\n",
    "    public void canFly() {\n",
    "        \n",
    "    }\n",
    "}\n",
    "\n",
    "public class Sparrow implements Bird {\n",
    "    @Override\n",
    "    public void canFly() {\n",
    "        \n",
    "    }\n",
    "}"
   ]
  },
  {
   "cell_type": "markdown",
   "id": "9285f1be-9fe9-49ca-80a1-796230f72275",
   "metadata": {},
   "source": [
    "Any new method added in Interface means modify all its child classes."
   ]
  },
  {
   "cell_type": "code",
   "execution_count": 35,
   "id": "4f0fcf7e-4807-4d7b-9fea-bff76d64f7cf",
   "metadata": {},
   "outputs": [],
   "source": [
    "public interface Bird {\n",
    "    public int getMiniumFlyWeight();\n",
    "    public void canFly(); // same as public abstract void canFly();\n",
    "}\n",
    "\n",
    "public class Eagle implements Bird {\n",
    "    @Override\n",
    "    public void canFly() {\n",
    "        \n",
    "    }\n",
    "    \n",
    "    @Override\n",
    "    public int getMiniumFlyWeight() {\n",
    "        return 100;\n",
    "    }\n",
    "}\n",
    "\n",
    "public class Sparrow implements Bird {\n",
    "    @Override\n",
    "    public void canFly() {\n",
    "        \n",
    "    }\n",
    "    \n",
    "    @Override\n",
    "    public int getMiniumFlyWeight() {\n",
    "        return 100;\n",
    "    }\n",
    "}"
   ]
  },
  {
   "cell_type": "code",
   "execution_count": 36,
   "id": "9ec42a3c-49d1-476f-9d26-209a57dd5dbe",
   "metadata": {},
   "outputs": [
    {
     "data": {
      "text/plain": [
       "100"
      ]
     },
     "execution_count": 36,
     "metadata": {},
     "output_type": "execute_result"
    }
   ],
   "source": [
    "public interface Bird {\n",
    "    // Default Method\n",
    "    default public int getMiniumFlyWeight() {\n",
    "        return 100;\n",
    "    }\n",
    "    \n",
    "    public void canFly(); // same as public abstract void canFly();\n",
    "}\n",
    "\n",
    "public class Sparrow implements Bird {\n",
    "    @Override\n",
    "    public void canFly() {\n",
    "        \n",
    "    }\n",
    "}\n",
    "\n",
    "Sparrow sparrow = new Sparrow();\n",
    "sparrow.getMiniumFlyWeight();"
   ]
  },
  {
   "cell_type": "markdown",
   "id": "4694afa5-2000-4e0b-b265-22944dbcefef",
   "metadata": {},
   "source": [
    "### Default and Multiple Inheritance"
   ]
  },
  {
   "cell_type": "code",
   "execution_count": 37,
   "id": "4c309194-7e0a-4a8a-8b80-bb0377b760c5",
   "metadata": {},
   "outputs": [
    {
     "ename": "CompilationException",
     "evalue": "",
     "output_type": "error",
     "traceback": [
      "\u001b[1m\u001b[30m|   \u001b[1m\u001b[30m\u001b[0m\u001b[1m\u001b[30m\u001b[41m\u001b[0m",
      "\u001b[1m\u001b[30m|   \u001b[1m\u001b[30m\u001b[41m\u001b[0m",
      "\u001b[1m\u001b[30m|   \u001b[1m\u001b[30m\u001b[41m\u001b[0m",
      "\u001b[1m\u001b[30m|   \u001b[1m\u001b[30m\u001b[41mpublic class Human implements Bird, Plane {\u001b[0m",
      "\u001b[1m\u001b[30m|   \u001b[1m\u001b[30m\u001b[41m    \u001b[0m",
      "\u001b[1m\u001b[30m|   \u001b[1m\u001b[30m\u001b[41m}\u001b[0m",
      "\u001b[1m\u001b[31mtypes Bird and Plane are incompatible;\u001b[0m",
      "\u001b[1m\u001b[31m  class Human inherits unrelated defaults for canFly() from types Bird and Plane\u001b[0m",
      ""
     ]
    }
   ],
   "source": [
    "public interface Bird {\n",
    "    default boolean canFly() {\n",
    "        return true;\n",
    "    }\n",
    "}\n",
    "\n",
    "public interface Plane {\n",
    "    default boolean canFly() {\n",
    "        return true;\n",
    "    }\n",
    "}\n",
    "\n",
    "\n",
    "public class Human implements Bird, Plane {\n",
    "    \n",
    "}"
   ]
  },
  {
   "cell_type": "markdown",
   "id": "da0e1a8b-705b-4b61-867d-2fe85fe899a9",
   "metadata": {},
   "source": [
    "### Solutions to solve this problem\n",
    "\n",
    "#### 1st way"
   ]
  },
  {
   "cell_type": "code",
   "execution_count": 38,
   "id": "e7ad3a8f-0389-4bf3-ab89-13b59a3c4cb6",
   "metadata": {},
   "outputs": [
    {
     "data": {
      "text/plain": [
       "true"
      ]
     },
     "execution_count": 38,
     "metadata": {},
     "output_type": "execute_result"
    }
   ],
   "source": [
    "public interface LivingThing {\n",
    "    default boolean canBreadth() {\n",
    "        return true;\n",
    "    }\n",
    "}\n",
    "\n",
    "public interface Bird extends LivingThing {\n",
    "    //\n",
    "}\n",
    "\n",
    "public class Eagle implements Bird {\n",
    "    // \n",
    "}\n",
    "\n",
    "Eagle eagle = new Eagle();\n",
    "eagle.canBreadth();"
   ]
  },
  {
   "cell_type": "markdown",
   "id": "e6ccdbf7-3dd3-4ba2-9d74-a4eb1ff011cd",
   "metadata": {},
   "source": [
    "#### 2nd way"
   ]
  },
  {
   "cell_type": "code",
   "execution_count": 39,
   "id": "587cf7e0-de74-4d14-a630-d863989f8162",
   "metadata": {},
   "outputs": [
    {
     "data": {
      "text/plain": [
       "true"
      ]
     },
     "execution_count": 39,
     "metadata": {},
     "output_type": "execute_result"
    }
   ],
   "source": [
    "public interface LivingThing {\n",
    "    default boolean canBreadth() {\n",
    "        return true;\n",
    "    }\n",
    "}\n",
    "\n",
    "public interface Bird extends LivingThing {\n",
    "    // you can make it abstract\n",
    "    boolean canBreadth();\n",
    "}\n",
    "\n",
    "public class Eagle implements Bird {\n",
    "    // now child class has to implement it\n",
    "    @Override\n",
    "    public boolean canBreadth() { return true; }\n",
    "}\n",
    "\n",
    "Eagle eagle = new Eagle();\n",
    "eagle.canBreadth();"
   ]
  },
  {
   "cell_type": "markdown",
   "id": "1cf72c55-b045-47a3-aa02-fbb6f77991ac",
   "metadata": {},
   "source": [
    "#### 3rd way"
   ]
  },
  {
   "cell_type": "code",
   "execution_count": 40,
   "id": "7db121ea-0761-4fac-94db-1858c96ace69",
   "metadata": {},
   "outputs": [
    {
     "data": {
      "text/plain": [
       "true"
      ]
     },
     "execution_count": 40,
     "metadata": {},
     "output_type": "execute_result"
    }
   ],
   "source": [
    "public interface LivingThing {\n",
    "    default boolean canBreadth() {\n",
    "        return true;\n",
    "    }\n",
    "}\n",
    "\n",
    "public interface Bird extends LivingThing {\n",
    "    // own implementation\n",
    "    default boolean canBreadth() {\n",
    "        return LivingThing.super.canBreadth();\n",
    "    }\n",
    "}\n",
    "\n",
    "public class Eagle implements Bird {\n",
    "    // \n",
    "}\n",
    "\n",
    "Eagle eagle = new Eagle();\n",
    "eagle.canBreadth();"
   ]
  },
  {
   "cell_type": "markdown",
   "id": "1f64d808-75aa-47fe-a5ae-e02efa77f3ff",
   "metadata": {},
   "source": [
    "### Static Method\n",
    "\n",
    "- We can provide the implementation of the method in interface.\n",
    "- But it can not be overridden by classes which implement the interface. \n",
    "- We can access it using Interface name itself.\n",
    "- It is by default `public`."
   ]
  },
  {
   "cell_type": "code",
   "execution_count": 41,
   "id": "0d18b991-832e-4a59-b6b0-f277ba851ef7",
   "metadata": {},
   "outputs": [],
   "source": [
    "public interface Bird {\n",
    "    static boolean canHandle() {\n",
    "        return true;\n",
    "    }\n",
    "}\n",
    "\n",
    "public class Eagle implements Bird {\n",
    "    public void test() {\n",
    "        if (Bird.canHandle()) {\n",
    "            //\n",
    "        }\n",
    "    }\n",
    "}"
   ]
  },
  {
   "cell_type": "markdown",
   "id": "a259caf2-a406-4b31-aab3-7c68cbf134c0",
   "metadata": {},
   "source": [
    "### Functional Interface and lambda expression\n",
    "\n",
    "- [Functional Interfaces in Java 8](https://www.baeldung.com/java-8-functional-interfaces)\n",
    "- [Lambda Expressions and Functional Interfaces: Tips and Best Practices](https://www.baeldung.com/java-8-lambda-expressions-tips)\n",
    "\n",
    "#### What is Functional Interface?\n",
    "\n",
    "- If an interface contains only one abstract method, that is known as functional interface.\n",
    "- Also know as SAM (Single Abstract Method).\n",
    "- `@FunctionalInterface` annonations is used at the top of the interface."
   ]
  },
  {
   "cell_type": "code",
   "execution_count": 42,
   "id": "118b80ea-8b0b-40bc-a521-b764ba0d5dac",
   "metadata": {},
   "outputs": [],
   "source": [
    "@FunctionalInterface\n",
    "public interface Bird {\n",
    "    void canFly();\n",
    "}"
   ]
  },
  {
   "cell_type": "markdown",
   "id": "0243b9ee-2435-46d7-99ba-316cfaccbe50",
   "metadata": {},
   "source": [
    "=="
   ]
  },
  {
   "cell_type": "code",
   "execution_count": 43,
   "id": "822a4a59-8681-4860-84c5-0544cd9e1d01",
   "metadata": {},
   "outputs": [],
   "source": [
    "public interface Bird {\n",
    "    void canFly();\n",
    "}"
   ]
  },
  {
   "cell_type": "markdown",
   "id": "82cc7cd3-7b95-44c9-aaa3-3083b7f90232",
   "metadata": {},
   "source": [
    "`@FunctionalInterface` annonation restrct us and throws compilation error, if we try to add more than 1 abstract method"
   ]
  },
  {
   "cell_type": "code",
   "execution_count": 44,
   "id": "a083a711-8796-40b4-bb4a-2a9e2d08d48d",
   "metadata": {},
   "outputs": [
    {
     "ename": "CompilationException",
     "evalue": "",
     "output_type": "error",
     "traceback": [
      "\u001b[1m\u001b[30m|   \u001b[1m\u001b[30m\u001b[0m\u001b[1m\u001b[30m\u001b[41m@FunctionalInterface\u001b[0m\u001b[1m\u001b[30m\u001b[0m",
      "\u001b[1m\u001b[31mUnexpected @FunctionalInterface annotation\u001b[0m",
      "\u001b[1m\u001b[31m  Bird is not a functional interface\u001b[0m",
      "\u001b[1m\u001b[31m    multiple non-overriding abstract methods found in interface Bird\u001b[0m",
      ""
     ]
    }
   ],
   "source": [
    "@FunctionalInterface\n",
    "public interface Bird {\n",
    "    void canFly();\n",
    "    \n",
    "    void sayHi();\n",
    "}"
   ]
  },
  {
   "cell_type": "markdown",
   "id": "c263bf8f-38cc-4bb6-b2e1-de2bf96388ac",
   "metadata": {},
   "source": [
    "In functional interface only 1 abstract method is allowed but other methods like default, static or method inherited from other class is allowed "
   ]
  },
  {
   "cell_type": "code",
   "execution_count": 45,
   "id": "a905117d-af44-4ace-a5f0-f62cfe461ead",
   "metadata": {},
   "outputs": [],
   "source": [
    "@FunctionalInterface\n",
    "public interface Bird {\n",
    "    void canFly(); // abstract method\n",
    "\n",
    "    default void getWeight() {\n",
    "\n",
    "    }\n",
    "\n",
    "    static void canEat() {\n",
    "\n",
    "    }\n",
    "\n",
    "    String toString(); // Object class method\n",
    "}"
   ]
  },
  {
   "cell_type": "markdown",
   "id": "2c03a86a-8bce-47e6-9c93-1f5d9075f450",
   "metadata": {},
   "source": [
    "#### What is Lambda expression?\n",
    "\n",
    "Lambda expression is a way to implement the functional interface.\n",
    "\n",
    "##### Different ways to implements functional expression..."
   ]
  },
  {
   "cell_type": "code",
   "execution_count": 46,
   "id": "a7e9b5aa-384b-4555-9f7f-2ad0fe6c76e1",
   "metadata": {},
   "outputs": [],
   "source": [
    "// 1) using implements\n",
    "\n",
    "@FunctionalInterface\n",
    "public interface Bird {\n",
    "    void canFly();\n",
    "}\n",
    "\n",
    "public class Eagle implements Bird {\n",
    "    @Override\n",
    "    public void canFly() {\n",
    "        //\n",
    "    }\n",
    "}"
   ]
  },
  {
   "cell_type": "code",
   "execution_count": 47,
   "id": "4df3b2f1-bda1-4669-9a25-b340cba8636a",
   "metadata": {},
   "outputs": [],
   "source": [
    "// 2) anonymous class\n",
    "\n",
    "@FunctionalInterface\n",
    "public interface Bird {\n",
    "    void canFly();\n",
    "}\n",
    "\n",
    "Bird eagle = new Bird() {\n",
    "    @Override\n",
    "    public void canFly() {\n",
    "        \n",
    "    }\n",
    "};"
   ]
  },
  {
   "cell_type": "code",
   "execution_count": 48,
   "id": "f6ae250a-3502-4dc6-8cca-ddcef66d328b",
   "metadata": {},
   "outputs": [],
   "source": [
    "// 3) using lambda expression\n",
    "\n",
    "@FunctionalInterface\n",
    "public interface Bird {\n",
    "    void canFly();\n",
    "}\n",
    "\n",
    "Bird eagle = () -> {\n",
    "        //\n",
    "};"
   ]
  },
  {
   "cell_type": "markdown",
   "id": "7197fc07-6c16-4cae-bdf2-f5b8ead211bc",
   "metadata": {},
   "source": [
    "### Types of functional interface\n",
    "\n",
    "- Consumer\n",
    "- Supplier\n",
    "- Function\n",
    "- Predicate\n",
    "\n",
    "#### Consumer\n",
    "\n",
    "- Reprsent an operation, that accept a single input and returns `void`\n",
    "- Present in `java.util.function` package"
   ]
  },
  {
   "cell_type": "code",
   "execution_count": 49,
   "id": "0f7da143-4906-4bfa-a062-292e06e78a09",
   "metadata": {},
   "outputs": [
    {
     "name": "stdout",
     "output_type": "stream",
     "text": [
      "Logging\n"
     ]
    }
   ],
   "source": [
    "@FunctionalInterface\n",
    "public interface Consumer<T> {\n",
    "    void accept(T t);\n",
    "}\n",
    "\n",
    "Consumer<Integer> consumer = (Integer val) -> {\n",
    "    if (val > 10) {\n",
    "        System.out.println(\"Logging\");\n",
    "    }\n",
    "};\n",
    "\n",
    "consumer.accept(20);"
   ]
  },
  {
   "cell_type": "markdown",
   "id": "084135c4-b982-44c2-919f-339009f3721e",
   "metadata": {},
   "source": [
    "#### Supplier\n",
    "\n",
    "- Represent the supplier of the result, Accepts no input but `return` a result\n",
    "- Present in `java.util.function` package"
   ]
  },
  {
   "cell_type": "code",
   "execution_count": 50,
   "id": "fdd9166e-4a72-498f-8b4c-828e52285f44",
   "metadata": {},
   "outputs": [
    {
     "data": {
      "text/plain": [
       "Hello"
      ]
     },
     "execution_count": 50,
     "metadata": {},
     "output_type": "execute_result"
    }
   ],
   "source": [
    "@FunctionalInterface\n",
    "public interface Supplier<T> {\n",
    "    T get();\n",
    "}\n",
    "\n",
    "Supplier<String> supplier = () -> {\n",
    "    return \"Hello\";\n",
    "};\n",
    "\n",
    "supplier.get();"
   ]
  },
  {
   "cell_type": "markdown",
   "id": "099e2616-6876-4c0c-affd-9610b6f0a2cc",
   "metadata": {},
   "source": [
    "#### Function\n",
    "\n",
    "- Represent function, that accepts 1 arg, process it and `return` a result.\n",
    "- Present in `java.util.function` package"
   ]
  },
  {
   "cell_type": "code",
   "execution_count": 51,
   "id": "3f51462b-3487-4f60-932d-8dda177152fb",
   "metadata": {},
   "outputs": [
    {
     "data": {
      "text/plain": [
       "Hello John"
      ]
     },
     "execution_count": 51,
     "metadata": {},
     "output_type": "execute_result"
    }
   ],
   "source": [
    "@FunctionalInterface\n",
    "public interface Function<T, R> {\n",
    "    R apply(T t);\n",
    "}\n",
    "\n",
    "Function<String, String> function = (String name) -> {\n",
    "    return \"Hello \" + name;\n",
    "};\n",
    "\n",
    "function.apply(\"John\");"
   ]
  },
  {
   "cell_type": "markdown",
   "id": "361e3094-6014-47a4-bdb0-a46cb0a7435e",
   "metadata": {},
   "source": [
    "#### Predicate\n",
    "\n",
    "- Represent function, that accepts 1 arg, process it and return a `boolean`.\n",
    "- Present in `java.util.function` package"
   ]
  },
  {
   "cell_type": "code",
   "execution_count": 52,
   "id": "4e18e2f4-7b78-4421-8fb8-8df2711bef03",
   "metadata": {},
   "outputs": [
    {
     "data": {
      "text/plain": [
       "false"
      ]
     },
     "execution_count": 52,
     "metadata": {},
     "output_type": "execute_result"
    }
   ],
   "source": [
    "@FunctionalInterface\n",
    "public interface Predicate<T> {\n",
    "    boolean test(T t);\n",
    "}\n",
    "\n",
    "Predicate<Integer> predicate = (Integer num) -> {\n",
    "    return num % 2 == 0;\n",
    "};\n",
    "\n",
    "predicate.test(5555);"
   ]
  },
  {
   "cell_type": "code",
   "execution_count": 53,
   "id": "abe99281-7c90-4875-a576-be5e52c9a1d2",
   "metadata": {},
   "outputs": [
    {
     "data": {
      "text/plain": [
       "true"
      ]
     },
     "execution_count": 53,
     "metadata": {},
     "output_type": "execute_result"
    }
   ],
   "source": [
    "predicate.test(100);"
   ]
  },
  {
   "cell_type": "markdown",
   "id": "b6a91c5b-20b4-4259-942b-fea1808cd777",
   "metadata": {},
   "source": [
    "### Handle use case when Functional Interface extends from other Interface"
   ]
  },
  {
   "cell_type": "code",
   "execution_count": 54,
   "id": "533c4a62-f610-4a72-aa17-bd776ef18456",
   "metadata": {},
   "outputs": [
    {
     "ename": "CompilationException",
     "evalue": "",
     "output_type": "error",
     "traceback": [
      "\u001b[1m\u001b[30m|   \u001b[1m\u001b[30m\u001b[0m\u001b[1m\u001b[30m\u001b[41m@FunctionalInterface\u001b[0m\u001b[1m\u001b[30m\u001b[0m",
      "\u001b[1m\u001b[31mUnexpected @FunctionalInterface annotation\u001b[0m",
      "\u001b[1m\u001b[31m  Bird is not a functional interface\u001b[0m",
      "\u001b[1m\u001b[31m    multiple non-overriding abstract methods found in interface Bird\u001b[0m",
      ""
     ]
    }
   ],
   "source": [
    "// Case 1 - Functional Interface extending non functional interface\n",
    "\n",
    "public interface Living {\n",
    "    public void breadth();\n",
    "}\n",
    "\n",
    "// since bird inherited from Living, all living methods also become a part of Bird and \n",
    "// functional interface can contain only one abstract method, so compile error\n",
    "@FunctionalInterface\n",
    "public interface Bird extends Living {\n",
    "    void fly();\n",
    "}"
   ]
  },
  {
   "cell_type": "code",
   "execution_count": 55,
   "id": "57e74342-4e7e-4fd0-93f0-bcac9b5a4bd6",
   "metadata": {},
   "outputs": [],
   "source": [
    "public interface Living {\n",
    "    public default boolean breadth() { return true; }\n",
    "}\n",
    "\n",
    "// ok\n",
    "@FunctionalInterface\n",
    "public interface Bird extends Living {\n",
    "   public void fly();\n",
    "}"
   ]
  },
  {
   "cell_type": "code",
   "execution_count": 56,
   "id": "4a18c74f-a554-4eb1-90e9-7481aaf973d4",
   "metadata": {},
   "outputs": [],
   "source": [
    "// Case 2 - Interface extending functional interface\n",
    "\n",
    "@FunctionalInterface\n",
    "public interface Living {\n",
    "    public boolean breadth();\n",
    "}\n",
    "\n",
    "// ok\n",
    "public interface Bird extends Living {\n",
    "   public void fly();\n",
    "}"
   ]
  },
  {
   "cell_type": "code",
   "execution_count": 57,
   "id": "a15b16ab-783b-45e0-814b-2f8050d57621",
   "metadata": {},
   "outputs": [
    {
     "ename": "CompilationException",
     "evalue": "",
     "output_type": "error",
     "traceback": [
      "\u001b[1m\u001b[30m|   \u001b[1m\u001b[30m\u001b[0m\u001b[1m\u001b[30m\u001b[41m@FunctionalInterface\u001b[0m\u001b[1m\u001b[30m\u001b[0m",
      "\u001b[1m\u001b[31mUnexpected @FunctionalInterface annotation\u001b[0m",
      "\u001b[1m\u001b[31m  Bird is not a functional interface\u001b[0m",
      "\u001b[1m\u001b[31m    multiple non-overriding abstract methods found in interface Bird\u001b[0m",
      ""
     ]
    }
   ],
   "source": [
    "// Case 3 - Functional Interface extending other functional interface\n",
    "\n",
    "@FunctionalInterface\n",
    "public interface Living {\n",
    "    public boolean breadth();\n",
    "}\n",
    "\n",
    "// FunctionalInterface can only contain one abstract method\n",
    "@FunctionalInterface\n",
    "public interface Bird extends Living {\n",
    "    public default boolean fly()  {\n",
    "       return false;\n",
    "    }\n",
    "    \n",
    "    // not allowed\n",
    "    public boolean brea3dth();\n",
    "}"
   ]
  },
  {
   "cell_type": "code",
   "execution_count": 58,
   "id": "4805fdf3-dcaa-48fe-b6c6-8adac6d2aef5",
   "metadata": {},
   "outputs": [],
   "source": [
    "// but if the parent abstract method and child abstract method is same then no problem\n",
    "\n",
    "@FunctionalInterface\n",
    "public interface Living {\n",
    "    public boolean breadth();\n",
    "}\n",
    "\n",
    "// FunctionalInterface can only contain one abstract method\n",
    "@FunctionalInterface\n",
    "public interface Bird extends Living {\n",
    "    public default boolean fly()  {\n",
    "       return false;\n",
    "    }\n",
    "    \n",
    "    // both have same abstract method\n",
    "    public boolean breadth();\n",
    "}\n",
    "\n",
    "Bird eagle = () -> {\n",
    "    return false;\n",
    "};"
   ]
  },
  {
   "cell_type": "markdown",
   "id": "ceb2f8d2-cd67-4c18-95b4-857dbffec0e5",
   "metadata": {},
   "source": [
    "## Java 9 Interface Features\n",
    "\n",
    "- [Private Methods in Java Interfaces](https://www.baeldung.com/java-interface-private-methods)\n",
    "\n",
    "### Private method and Private static method\n",
    "\n",
    "- We can provide the implementation of a method as a `private` access modifier in interface.\n",
    "- It brings more readability of the code. For example if multiple default method share some code, that this can help. \n",
    "- It can be defined as `static` and `non-static`.\n",
    "- From Static method, we can call only private static interface method.\n",
    "- Private static method, can be called from both static and non static method.\n",
    "- Private interface method can not be `abstract`. Means we have to provide the definition.\n",
    "- It can be used inside of the particular interface only."
   ]
  },
  {
   "cell_type": "code",
   "execution_count": 59,
   "id": "5ca1d4e5-0d0b-410b-83dd-acde92450187",
   "metadata": {},
   "outputs": [],
   "source": [
    "public interface Bird {\n",
    "    public abstract void canFly();\n",
    "    \n",
    "    public default void minimumFlyinfHeight() {\n",
    "        myStaticPublicMethod(); // calling static method\n",
    "        myPrivateMethod(); // calling private method\n",
    "    }\n",
    "    \n",
    "    public static void myStaticPublicMethod() {\n",
    "        myStaticPrivateMethod(); // from static we can call other static method only\n",
    "    }\n",
    "    \n",
    "    private void myPrivateMethod() {\n",
    "        myStaticPrivateMethod();\n",
    "    }\n",
    "    \n",
    "    private static void myStaticPrivateMethod() {\n",
    "        // java 9\n",
    "    }\n",
    "}"
   ]
  }
 ],
 "metadata": {
  "kernelspec": {
   "display_name": "Java",
   "language": "java",
   "name": "java"
  },
  "language_info": {
   "codemirror_mode": "java",
   "file_extension": ".jshell",
   "mimetype": "text/x-java-source",
   "name": "Java",
   "pygments_lexer": "java",
   "version": "21.0.1+12-LTS"
  }
 },
 "nbformat": 4,
 "nbformat_minor": 5
}
