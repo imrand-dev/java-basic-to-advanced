{
 "cells": [
  {
   "cell_type": "markdown",
   "id": "35b663bc-c9e4-4af2-ba78-1bd63b0ac564",
   "metadata": {},
   "source": [
    "# Session 20, 21 - Java Annonations\n",
    "\n",
    "- [Overview of Java Built-in Annotations](https://www.baeldung.com/java-default-annotations)\n",
    "- [Creating a Custom Annotation in Java](https://www.baeldung.com/java-custom-annotation)\n",
    "- [Java Annotations](https://www.digitalocean.com/community/tutorials/java-annotations)\n",
    "- [An Introduction to Annotations and Annotation Processing in Java](https://reflectoring.io/java-annotation-processing/)\n",
    "- [Introduction to Javadoc](https://www.baeldung.com/javadoc)\n",
    "\n",
    "## What is annonations?\n",
    "\n",
    "- It is kind of adding **META DATA** to the Java Code.\n",
    "- It's usage is Optional\n",
    "- We can use this META DATA information at runtime and can add certain logic in our code if need.\n",
    "- Annotations can be applied at anywhere like Classes, Methods, Interface, fields, parameters etc.\n",
    "\n",
    "Examples: "
   ]
  },
  {
   "cell_type": "code",
   "execution_count": 1,
   "id": "0d0091e9-5dcc-4282-ac20-81acc9544e1d",
   "metadata": {},
   "outputs": [
    {
     "ename": "CompilationException",
     "evalue": "",
     "output_type": "error",
     "traceback": [
      "\u001b[1m\u001b[30m|   \u001b[1m\u001b[30m\u001b[0m\u001b[1m\u001b[30m\u001b[41mEagle.hi\u001b[0m\u001b[1m\u001b[30m();\u001b[0m",
      "\u001b[1m\u001b[31mnon-static method hi() cannot be referenced from a static context\u001b[0m",
      ""
     ]
    }
   ],
   "source": [
    "public interface Bird {\n",
    "    public void hi();\n",
    "}\n",
    "\n",
    "public class Eagle implements Bird {\n",
    "    @Override\n",
    "    public void hi() {\n",
    "        System.out.println(\"Hello, World\");\n",
    "    }\n",
    "}\n",
    "\n",
    "Eagle.hi();"
   ]
  },
  {
   "cell_type": "code",
   "execution_count": 2,
   "id": "0e491d3e-0619-42d6-8027-805c33f7a308",
   "metadata": {},
   "outputs": [
    {
     "name": "stdout",
     "output_type": "stream",
     "text": [
      "Hello, World\n"
     ]
    }
   ],
   "source": [
    "Eagle eagle = new Eagle();\n",
    "eagle.hi();"
   ]
  },
  {
   "cell_type": "markdown",
   "id": "b66a931c-54ca-429a-a6f0-818144f71fc8",
   "metadata": {},
   "source": [
    "## Types of annonations\n",
    "\n",
    "- Predefined\n",
    "    - used on Java Code like class, methods\n",
    "        - @Depricated\n",
    "        - @Override\n",
    "        - @FunctionalInterface\n",
    "        - @SafeVarargs\n",
    "        - @SuppressWarnings\n",
    "    - used on top of anoter annonations also called meta annonation\n",
    "        - @Target\n",
    "        - @Retention\n",
    "        - @Documented\n",
    "        - @Inherited\n",
    "        - @Repeatable\n",
    "- Custom annonation\n",
    "    - Customize annonations based on program requirements\n",
    "\n",
    "## Annonations used on Java Code\n",
    "\n",
    "### @Depricated\n",
    "\n",
    "- Usage of Deprecated Class or Method or fields, shows you compile time WARNING.\n",
    "- Deprecation means, no further improvement is happening on this and use new alternative method or field instead.\n",
    "- Can be used over: Constructor, Field, Local Variable, Method, Package, Parameter, Type(class, interface, enum)."
   ]
  },
  {
   "cell_type": "code",
   "execution_count": 3,
   "id": "78e00ae0-c54d-4656-9498-fbf43d46c1cc",
   "metadata": {},
   "outputs": [
    {
     "name": "stdout",
     "output_type": "stream",
     "text": [
      "This is a legacy function\n"
     ]
    }
   ],
   "source": [
    "public class DeprecatedDemo {\n",
    "\n",
    "  @Deprecated(since = \"4.5\", forRemoval = true)\n",
    "  public void testLegacyFunction() {\n",
    "\n",
    "    System.out.println(\"This is a legacy function\");\n",
    "  }\n",
    "}\n",
    "\n",
    "DeprecatedDemo dep = new DeprecatedDemo();\n",
    "dep.testLegacyFunction();"
   ]
  },
  {
   "cell_type": "code",
   "execution_count": 4,
   "id": "d1ec4201-2849-4c2d-b3a4-ae453086d43b",
   "metadata": {},
   "outputs": [],
   "source": [
    "public class Mobile {\n",
    "    @Deprecated\n",
    "    public void dummyMethod() {\n",
    "        // ...\n",
    "    }\n",
    "}\n",
    "\n",
    "Mobile mobile = new Mobile();\n",
    "mobile.dummyMethod();"
   ]
  },
  {
   "cell_type": "markdown",
   "id": "429deb6a-1c73-4254-9582-bd9381ca4c1b",
   "metadata": {},
   "source": [
    "### @Override\n",
    "\n",
    "- During Compile time, it will check that the method should be Overridden.\n",
    "- And throws compile time error, if it do not match with the parent method.\n",
    "- Can be used over: METHODS."
   ]
  },
  {
   "cell_type": "code",
   "execution_count": 5,
   "id": "127c6b01-1ce5-40da-98c5-bcb4f6262f04",
   "metadata": {},
   "outputs": [],
   "source": [
    "public class Employee {\n",
    "  public void getEmployeeStatus(){\n",
    "    System.out.println(\"This is the Base Employee class\");\n",
    "  }\n",
    "}\n",
    "\n",
    "public class Manager extends Employee {\n",
    "  @Override\n",
    "  public void getEmployeeStatus(){\n",
    "    System.out.println(\"This is the Manager class\");\n",
    "  }\n",
    "}"
   ]
  },
  {
   "cell_type": "markdown",
   "id": "22f8d57e-f6c8-49da-80a6-fa7c8c1775c1",
   "metadata": {},
   "source": [
    "### @FunctionalInterface\n",
    "\n",
    "- Restrict Interface to have only 1 abstract method.\n",
    "- Throws Compilation error, if more than 1 abstract method found. \n",
    "- Can be used over: Type (Class or interface or enum)"
   ]
  },
  {
   "cell_type": "code",
   "execution_count": 6,
   "id": "990463fc-446e-40d4-a85f-04dd0fbafe10",
   "metadata": {},
   "outputs": [
    {
     "ename": "CompilationException",
     "evalue": "",
     "output_type": "error",
     "traceback": [
      "\u001b[1m\u001b[30m|   \u001b[1m\u001b[30m\u001b[0m\u001b[1m\u001b[30m\u001b[41m@FunctionalInterface\u001b[0m\u001b[1m\u001b[30m\u001b[0m",
      "\u001b[1m\u001b[31mUnexpected @FunctionalInterface annotation\u001b[0m",
      "\u001b[1m\u001b[31m  Bird is not a functional interface\u001b[0m",
      "\u001b[1m\u001b[31m    multiple non-overriding abstract methods found in interface Bird\u001b[0m",
      ""
     ]
    }
   ],
   "source": [
    "@FunctionalInterface\n",
    "public interface Bird {\n",
    "    public void fly();\n",
    "    public void eat();\n",
    "}"
   ]
  },
  {
   "cell_type": "markdown",
   "id": "b6157646-3f88-4fc3-9e87-1508b2625df8",
   "metadata": {},
   "source": [
    "#### @SuppressWarnings\n",
    "\n",
    "- It will tell compiler to IGNORE any compile time WARNING.\n",
    "- Use it safely, could led to Run time exception if, any valid warning is IGNORED\n",
    "- Can be used over: Field, Method, Parameter, Constructor, Local Variable, Type (Class or interface or enum)"
   ]
  },
  {
   "cell_type": "code",
   "execution_count": 7,
   "id": "35ec3111-56f3-4fb1-af95-afc55baa5626",
   "metadata": {},
   "outputs": [],
   "source": [
    "public class Mobile {\n",
    "    @Deprecated\n",
    "    public void dummyMethod() {\n",
    "        // ...\n",
    "    }\n",
    "\n",
    "    @SuppressWarnings(\"unused\") \n",
    "    public void unusedMethod() {\n",
    "        // if there is any unused merhod compile will throw warning\n",
    "        // to remove the warning you can use @SuppressWarnings(\"unused\")\n",
    "    }\n",
    "}"
   ]
  },
  {
   "cell_type": "code",
   "execution_count": 8,
   "id": "b0469f76-810d-49ed-b5b4-5cbfb08ecf98",
   "metadata": {},
   "outputs": [],
   "source": [
    "// class level\n",
    "@SuppressWarnings(\"deprecation\")\n",
    "public class Abc {\n",
    "    public static void main(String... args) {\n",
    "        Mobile mobile = new Mobile();\n",
    "        mobile.dummyMethod();\n",
    "    }\n",
    "}"
   ]
  },
  {
   "cell_type": "code",
   "execution_count": 9,
   "id": "e35105fe-28f2-4f4f-939c-335c703be536",
   "metadata": {},
   "outputs": [],
   "source": [
    "// to ignore all the warnings use @SupressWarnings(\"all\")\n",
    "// method level\n",
    "public class Abc {\n",
    "    @SuppressWarnings(\"deprecation\")\n",
    "    public static void main(String... args) {\n",
    "        Mobile mobile = new Mobile();\n",
    "        mobile.dummyMethod();\n",
    "    }\n",
    "}"
   ]
  },
  {
   "cell_type": "markdown",
   "id": "0ca7f209-4ec1-4033-b5f7-6cf79a8a152e",
   "metadata": {},
   "source": [
    "### @SafeVarargs\n",
    "\n",
    "- Used to suppress \"Heap pollution warning\"\n",
    "- Used over methods and Constructors which has Variable Arguments as parameter.\n",
    "- Method should be either static or final (i.e. methods which can not be overridden) \n",
    "- In Java 9, we can also use it on private methods too.\n",
    "\n",
    "What is Heap Pollution?\n",
    "- Object of One Type (Example String), storing the reference of another type Object (Example Integer)"
   ]
  },
  {
   "cell_type": "code",
   "execution_count": 10,
   "id": "93342292-8779-4419-a01a-9b94486dbc7a",
   "metadata": {},
   "outputs": [],
   "source": [
    "public class Log {\n",
    "    @SafeVarargs\n",
    "    public static void printLog(List<Integer>... logNumbersList) {\n",
    "        Object[] objectList = logNumbersList;\n",
    "\n",
    "        List<String> stringValues = new ArrayList<>();\n",
    "        stringValues.add(\"Hello\");\n",
    "        objectList[0] = stringValues;\n",
    "    }\n",
    "}"
   ]
  },
  {
   "cell_type": "code",
   "execution_count": 11,
   "id": "e0171465-36f9-4329-9ac3-467736a96e09",
   "metadata": {},
   "outputs": [],
   "source": [
    "public interface abc {\n",
    "    // we can do this:\n",
    "    void printStrings2(String... stringList);\n",
    "\n",
    "    // instead of having to do this:\n",
    "    void printStrings2(String string1, String string2);\n",
    "}"
   ]
  },
  {
   "cell_type": "code",
   "execution_count": 12,
   "id": "5f9e2c54-1113-4fb7-89e3-15d64548c365",
   "metadata": {},
   "outputs": [
    {
     "ename": "CompilationException",
     "evalue": "",
     "output_type": "error",
     "traceback": [
      "\u001b[1m\u001b[30m|   \u001b[1m\u001b[30m\u001b[0m\u001b[1m\u001b[30m\u001b[41mtest.printString\u001b[0m\u001b[1m\u001b[30m(\"String1\", \"String2\");\u001b[0m",
      "\u001b[1m\u001b[31mprintString(java.lang.String,java.lang.String) has private access in SafeVarargsTest\u001b[0m",
      ""
     ]
    }
   ],
   "source": [
    "import java.util.Arrays;\n",
    "import java.util.List;\n",
    "\n",
    "public class SafeVarargsTest {\n",
    "\n",
    "   private void printString(String test1, String test2) {\n",
    "    System.out.println(test1);\n",
    "    System.out.println(test2);\n",
    "  }\n",
    "\n",
    "  private void printStringVarargs(String... tests) {\n",
    "    for (String test : tests) {\n",
    "      System.out.println(test);\n",
    "    }\n",
    "  }\n",
    "\n",
    "  private void printStringSafeVarargs(List<String>... testStringLists) {\n",
    "    for (List<String> testStringList : testStringLists) {\n",
    "      for (String testString : testStringList) {\n",
    "        System.out.println(testString);\n",
    "      }\n",
    "    }\n",
    "  }\n",
    "}\n",
    "\n",
    "SafeVarargsTest test = new SafeVarargsTest();\n",
    "\n",
    "test.printString(\"String1\", \"String2\");\n",
    "test.printString(\"*******\");\n",
    "\n",
    "test.printStringVarargs(\"String1\", \"String2\");\n",
    "test.printString(\"*******\");\n",
    "\n",
    "List<String> testStringList1 = Arrays.asList(\"One\", \"Two\");\n",
    "List<String> testStringList2 = Arrays.asList(\"Three\", \"Four\");\n",
    "\n",
    "test.printStringSafeVarargs(testStringList1, testStringList2);"
   ]
  },
  {
   "cell_type": "markdown",
   "id": "feb0d3bc-95c8-4105-868f-69b36605c24a",
   "metadata": {},
   "source": [
    "## Annonation Used over another annonations\n",
    "\n",
    "### Element types\n",
    "\n",
    "- TYPE (class, interface, enum)\n",
    "- FIELD (variables)\n",
    "- METHOD\n",
    "- PARAMETE\n",
    "- CONSTRUCTOR\n",
    "- LOCAL_VARIABLES\n",
    "- ANNONATION_TYPE\n",
    "- PACKAGE\n",
    "- TYPE_PARAMETER (allow you to apply on generic type <T>)\n",
    "- TYPE_USE (java 8 features, allow you to use annonation at all places where type you can declare (like List<@annonation String>))\n",
    "\n",
    "### @Target\n",
    "\n",
    "- This meta-annonation will restrict, where to use the annonation.\n",
    "- Either at method, constructor or field level etc."
   ]
  },
  {
   "cell_type": "code",
   "execution_count": 13,
   "id": "bf14b6bf-d479-4a84-8b61-1a4d15b8a5bd",
   "metadata": {},
   "outputs": [],
   "source": [
    "import java.lang.annotation.*; \n",
    "\n",
    "@Target(ElementType.METHOD)\n",
    "public @interface Override {\n",
    "\n",
    "}\n",
    "\n",
    "@Target({ElementType.CONSTRUCTOR, ElementType.METHOD})\n",
    "public @interface SafeVarargs {\n",
    "\n",
    "}"
   ]
  },
  {
   "cell_type": "markdown",
   "id": "3dcbf0da-eb19-4723-a385-1d5ecee29c5d",
   "metadata": {},
   "source": [
    "### @Retention\n",
    "\n",
    "- This meta-annotation tells, how Annotation will be stored in java.\n",
    "    - *RetentionPolicy.SOURCE*: Annotations will be discarded by the compiler itself and it will not be recorded in `.class` file.\n",
    "    - *RetentionPolicy.CLASS*: Annotations will be recorded in `.class` file but will be ignore by JVM at runtime. Can't be used for reflection\n",
    "    - *RetentionPolicy.RUNTIME*: Annotations will be recorded in `.class` file & available during run time. Usage of reflection can be done.\n",
    "    \n",
    "#### Example 1"
   ]
  },
  {
   "cell_type": "code",
   "execution_count": 14,
   "id": "9edfb871-60f0-465f-bf9a-6e1e6cb05821",
   "metadata": {},
   "outputs": [],
   "source": [
    "@Target(ElementType.METHOD)\n",
    "@Retention(RetentionPolicy.SOURCE)\n",
    "public @interface Override {\n",
    "\n",
    "}\n",
    "\n",
    "public interface Bird {\n",
    "    public void fly();\n",
    "}\n",
    "\n",
    "public class Eagle implements Bird {\n",
    "    @Override\n",
    "    public void fly() {\n",
    "        return;\n",
    "    }\n",
    "}"
   ]
  },
  {
   "cell_type": "code",
   "execution_count": 15,
   "id": "bd3a2b14-90de-4252-853b-6f6967ad26b3",
   "metadata": {},
   "outputs": [],
   "source": [
    "// .class file (@Override is missing)\n",
    "public class Eagle implements Bird {\n",
    "    public Eagle() {\n",
    "        \n",
    "    }\n",
    "    \n",
    "    public void fly() {\n",
    "        return;\n",
    "    }\n",
    "}"
   ]
  },
  {
   "cell_type": "markdown",
   "id": "e406e817-6530-40a9-9b1d-729fd25097d3",
   "metadata": {},
   "source": [
    "#### Example 2"
   ]
  },
  {
   "cell_type": "code",
   "execution_count": 16,
   "id": "9f7b1fe1-8383-4859-b5c8-fc55ccc150dd",
   "metadata": {},
   "outputs": [],
   "source": [
    "import java.util.List;\n",
    "import java.util.ArrayList;\n",
    "\n",
    "@Retention(RetentionPolicy.RUNTIME)\n",
    "@Target({ElementType.METHOD, ElementType.CONSTRUCTOR})\n",
    "public @interface SafeVarargs {}\n",
    "\n",
    "public class Log {\n",
    "    @SafeVarargs\n",
    "    public static void printLogValues(List<Integer>...logNumbersList) {\n",
    "        Object[] objectList = logNumbersList;\n",
    "        \n",
    "        List<String> stringValuesList = new ArrayList<>();\n",
    "        stringValuesList.add(\"hello\");\n",
    "        objectList[0] = stringValuesList;\n",
    "    }\n",
    "}"
   ]
  },
  {
   "cell_type": "code",
   "execution_count": 17,
   "id": "5196f085-a9e7-4f7b-b01f-c8a009e1e057",
   "metadata": {},
   "outputs": [],
   "source": [
    "// .class file\n",
    "public class Log {\n",
    "    \n",
    "    public Log() {\n",
    "        \n",
    "    }\n",
    "    \n",
    "    @SafeVarargs\n",
    "    public static void printLogValues() {\n",
    "        //\n",
    "    }\n",
    "}"
   ]
  },
  {
   "cell_type": "markdown",
   "id": "6a0c303d-9862-4dc4-9b79-4709fe523714",
   "metadata": {},
   "source": [
    "#### Example 3"
   ]
  },
  {
   "cell_type": "code",
   "execution_count": 18,
   "id": "f12ad20c-9c59-42c3-9aa6-be663114093b",
   "metadata": {},
   "outputs": [
    {
     "name": "stdout",
     "output_type": "stream",
     "text": [
      "@REPL.$JShell$37$MyCustomAnnotation()\n"
     ]
    }
   ],
   "source": [
    "@Retention(RetentionPolicy.RUNTIME)\n",
    "@Target({ElementType.TYPE})\n",
    "public @interface MyCustomAnnotation {}\n",
    "\n",
    "@MyCustomAnnotation\n",
    "public class Test {}\n",
    "\n",
    "System.out.println(new Test().getClass().getAnnotation(MyCustomAnnotation.class));"
   ]
  },
  {
   "cell_type": "code",
   "execution_count": 19,
   "id": "1ca78f26-a59f-480e-8b40-7a8db9075c38",
   "metadata": {},
   "outputs": [
    {
     "name": "stdout",
     "output_type": "stream",
     "text": [
      "null\n"
     ]
    }
   ],
   "source": [
    "// RetentionPolicy.SOURCE\n",
    "@Retention(RetentionPolicy.SOURCE)\n",
    "@Target({ElementType.TYPE})\n",
    "public @interface MyCustomAnnotation {}\n",
    "\n",
    "@MyCustomAnnotation\n",
    "public class Test {}\n",
    "\n",
    "System.out.println(new Test().getClass().getAnnotation(MyCustomAnnotation.class));"
   ]
  },
  {
   "cell_type": "markdown",
   "id": "020c3d24-4950-4c43-a180-3dc7d5db2e5e",
   "metadata": {},
   "source": [
    "### @Documented\n",
    "\n",
    "- By default, Annontations are ignored when Java Documentation is generated.\n",
    "- With this meta annontation even annotations will come in Java Doc.\n",
    "- Use `@Documented` top of the annotation."
   ]
  },
  {
   "cell_type": "markdown",
   "id": "9b6672ff-3de1-43ca-ba8e-2b988b45883a",
   "metadata": {},
   "source": [
    "### @Inherited\n",
    "\n",
    "- By default, Annotations applied on parent class are not available to child classes. \n",
    "    - But it is available after this meta-annotation.\n",
    "- This Meta-annotation has no effect, if annotation is used other than a class."
   ]
  },
  {
   "cell_type": "code",
   "execution_count": 20,
   "id": "19ad10c4-bc0e-4deb-a404-3afcc373f59b",
   "metadata": {},
   "outputs": [
    {
     "name": "stdout",
     "output_type": "stream",
     "text": [
      "@REPL.$JShell$37E$MyCustomAnnotation()\n"
     ]
    }
   ],
   "source": [
    "import java.lang.annotation.*; \n",
    "\n",
    "@Inherited\n",
    "@Retention(RetentionPolicy.RUNTIME)\n",
    "@Target({ElementType.TYPE})\n",
    "public @interface MyCustomAnnotation {}\n",
    "\n",
    "@MyCustomAnnotation\n",
    "public class Parent {}\n",
    "\n",
    "public class Child extends Parent {}\n",
    "\n",
    "System.out.println(new Child().getClass().getAnnotation(MyCustomAnnotation.class));"
   ]
  },
  {
   "cell_type": "code",
   "execution_count": 21,
   "id": "649cfcf2-2fa2-4003-a916-28240d0fde77",
   "metadata": {},
   "outputs": [
    {
     "name": "stdout",
     "output_type": "stream",
     "text": [
      "null\n"
     ]
    }
   ],
   "source": [
    "@Retention(RetentionPolicy.RUNTIME)\n",
    "@Target({ElementType.TYPE})\n",
    "public @interface MyCustomAnnotation {}\n",
    "\n",
    "@MyCustomAnnotation\n",
    "public class Parent {}\n",
    "\n",
    "public class Child extends Parent {}\n",
    "\n",
    "System.out.println(new Child().getClass().getAnnotation(MyCustomAnnotation.class));"
   ]
  },
  {
   "cell_type": "markdown",
   "id": "70529c29-f130-412d-aa69-8ec3b6086e8b",
   "metadata": {},
   "source": [
    "### @Repeatable\n",
    "\n",
    "- Allow us to use the same annotation more than 1 at same place"
   ]
  },
  {
   "cell_type": "code",
   "execution_count": 22,
   "id": "0117020d-ca64-429f-87f4-5c5ac21e7721",
   "metadata": {},
   "outputs": [],
   "source": [
    "// before Java 8, we can't do this\n",
    "@Retention(RetentionPolicy.RUNTIME)\n",
    "@Target({ElementType.TYPE})\n",
    "public @interface Category {\n",
    "    String name();\n",
    "}"
   ]
  },
  {
   "cell_type": "code",
   "execution_count": 23,
   "id": "0a9a0890-93db-437d-9acd-ba53513bd987",
   "metadata": {},
   "outputs": [
    {
     "ename": "CompilationException",
     "evalue": "",
     "output_type": "error",
     "traceback": [
      "\u001b[1m\u001b[30m|   \u001b[1m\u001b[30m\u001b[0m\u001b[1m\u001b[30m\u001b[41m@Category(name = \"LivingThings\")\u001b[0m\u001b[1m\u001b[30m\u001b[0m",
      "\u001b[1m\u001b[31mCategory is not a repeatable annotation type\u001b[0m",
      ""
     ]
    }
   ],
   "source": [
    "@Category(name = \"Bird\")\n",
    "@Category(name = \"LivingThings\")\n",
    "public class Eagle {\n",
    "    public void fly() {\n",
    "        \n",
    "    }\n",
    "}"
   ]
  },
  {
   "cell_type": "code",
   "execution_count": 24,
   "id": "c2c9e20d-1da3-4d80-b2a6-d3bca9f3310f",
   "metadata": {},
   "outputs": [],
   "source": [
    "// we need to use @Repetable meta annotation to do this\n",
    "import java.lang.annotation.*;\n",
    "\n",
    "@Retention(RetentionPolicy.RUNTIME)\n",
    "@Target({ElementType.TYPE})\n",
    "public @interface Categories {\n",
    "    Category[] value();\n",
    "}\n",
    "\n",
    "@Repeatable(Categories.class)\n",
    "public @interface Category {\n",
    "    String name();\n",
    "}"
   ]
  },
  {
   "cell_type": "code",
   "execution_count": 25,
   "id": "e736de48-2ad8-4b7e-a450-5dd2f1c571de",
   "metadata": {},
   "outputs": [
    {
     "name": "stdout",
     "output_type": "stream",
     "text": [
      "Bird\n",
      "LivingThings\n",
      "Carnivorous\n"
     ]
    }
   ],
   "source": [
    "@Category(name = \"Bird\")\n",
    "@Category(name = \"LivingThings\")\n",
    "@Category(name = \"Carnivorous\")\n",
    "public class Eagle {\n",
    "    public void fly() {\n",
    "        \n",
    "    }\n",
    "}\n",
    "\n",
    "Category[] categories = new Eagle().getClass().getAnnotationsByType(Category.class);\n",
    "\n",
    "for (Category annotation: categories) {\n",
    "    System.out.println(annotation.name());\n",
    "}"
   ]
  },
  {
   "cell_type": "markdown",
   "id": "bd51a8c5-a0a8-4c3f-ba29-7f8ba8bf6d91",
   "metadata": {},
   "source": [
    "## User defined or Custom Annotation\n",
    "\n",
    "we can create our own annotation using keyword `@interface`"
   ]
  },
  {
   "cell_type": "code",
   "execution_count": 26,
   "id": "b077787f-4792-4f4c-8b03-6530f6cbfccc",
   "metadata": {},
   "outputs": [],
   "source": [
    "// Annotation with empty body \n",
    "public @interface CustomAnnotation {}\n",
    "\n",
    "@CustomAnnotation\n",
    "public class Eagle {\n",
    "    public void fly() {\n",
    "\n",
    "    }\n",
    "}"
   ]
  },
  {
   "cell_type": "code",
   "execution_count": 27,
   "id": "cb8b3882-04e0-4cf1-ae8f-9658da017059",
   "metadata": {},
   "outputs": [],
   "source": [
    "// Annotation with method (like a variable)\n",
    "public @interface CustomAnnotation {\n",
    "    // No parameter, no body\n",
    "    // Return type is restricted to Primtitive, Class, String, Enum, annotations and array of these types.\n",
    "    String name();\n",
    "}\n",
    "\n",
    "@CustomAnnotation(name=\"Max\")\n",
    "public class Eagle {\n",
    "    public void fly() {\n",
    "\n",
    "    }\n",
    "}"
   ]
  },
  {
   "cell_type": "code",
   "execution_count": 28,
   "id": "e7ff83aa-d177-4085-ba41-cd6e6fd4424d",
   "metadata": {},
   "outputs": [],
   "source": [
    "// Annotation with default value\n",
    "public @interface CustomAnnotation {\n",
    "    // default value can't be null\n",
    "    String name() default \"John\";\n",
    "}\n",
    "\n",
    "@CustomAnnotation()\n",
    "public class Eagle {\n",
    "    public void fly() {\n",
    "\n",
    "    }\n",
    "}"
   ]
  }
 ],
 "metadata": {
  "kernelspec": {
   "display_name": "Java",
   "language": "java",
   "name": "java"
  },
  "language_info": {
   "codemirror_mode": "java",
   "file_extension": ".jshell",
   "mimetype": "text/x-java-source",
   "name": "Java",
   "pygments_lexer": "java",
   "version": "11.0.8+10-LTS"
  }
 },
 "nbformat": 4,
 "nbformat_minor": 5
}
