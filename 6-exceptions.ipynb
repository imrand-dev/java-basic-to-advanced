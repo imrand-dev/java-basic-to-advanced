{
 "cells": [
  {
   "cell_type": "markdown",
   "id": "cfe78307-7d0f-4fdc-b4b4-54d0300745d5",
   "metadata": {},
   "source": [
    "# Session 22, 23 - Java Exception Handling\n",
    "\n",
    "- [Java Exception Handling For Certification & Interviews](https://www.youtube.com/watch?v=VHi9PedZCq8)\n",
    "- [Exception Handling in Java](https://www.baeldung.com/java-exceptions)\n",
    "\n",
    "## What is an Exception?\n",
    "\n",
    "- It's an event, that occurs during the execution of the program.\n",
    "- It will disrupt your program normal flow.\n",
    "- It creates the Exception Object, which contain information about the Error like\n",
    "    - It's type of Exception and Message\n",
    "    - Stack trace etc.\n",
    "- Runtime system use this Exception Object and find the class which can handle it."
   ]
  },
  {
   "cell_type": "code",
   "execution_count": 1,
   "id": "8dc704c8-3d4c-4f84-9ba2-ddee3dc275ec",
   "metadata": {},
   "outputs": [
    {
     "ename": "EvalException",
     "evalue": "/ by zero",
     "output_type": "error",
     "traceback": [
      "\u001b[1m\u001b[31m---------------------------------------------------------------------------\u001b[0m",
      "\u001b[1m\u001b[31mjava.lang.ArithmeticException: / by zero\u001b[0m",
      "\u001b[1m\u001b[31m\tat Main.method3(#12:11)\u001b[0m",
      "\u001b[1m\u001b[31m\tat Main.method2(#12:7)\u001b[0m",
      "\u001b[1m\u001b[31m\tat Main.method1(#12:3)\u001b[0m",
      "\u001b[1m\u001b[31m\tat .(#14:1)\u001b[0m"
     ]
    }
   ],
   "source": [
    "public class Main {\n",
    "    public void method1() {\n",
    "        method2();\n",
    "    }\n",
    "    \n",
    "    public void method2() {\n",
    "        method3();\n",
    "    }\n",
    "    \n",
    "    public void method3() {\n",
    "        int value = 50/0;\n",
    "    }\n",
    "}\n",
    "\n",
    "Main main = new Main();\n",
    "main.method1();"
   ]
  },
  {
   "cell_type": "markdown",
   "id": "aeb59f5d-c28e-4609-b5b3-5a153f70b7af",
   "metadata": {},
   "source": [
    "## Exception Hierarchy\n",
    "\n",
    "- Object\n",
    "    - Throwable\n",
    "        - Error\n",
    "            - StackOverflowError\n",
    "            - OutofMemoryError\n",
    "        - Exception\n",
    "            - Unchecked/Runtime Exception\n",
    "                - ClassCastException\n",
    "                - ArithmeticException\n",
    "                - IndexOutofBoundException\n",
    "                    - ArrayIndexOutofBoundException\n",
    "                    - StringOutofBoundException\n",
    "                - NullPointerException\n",
    "                - IllegalArgumentException\n",
    "                    - NumberFormatException\n",
    "            - Checked/Compile time Exception\n",
    "                - ClassNotFoundException\n",
    "                - InterruptedException\n",
    "                - IOException\n",
    "                    - FileNotFoundException\n",
    "                    - EOFException\n",
    "                    - SocketException\n",
    "                - SQLException\n",
    "            \n",
    "![](https://cdn.rollbar.com/wp-content/uploads/2021/07/java-exceptions-hierarchy-example.png.webp)"
   ]
  },
  {
   "cell_type": "markdown",
   "id": "49e0a608-025e-4873-81be-5aa4df110dc5",
   "metadata": {},
   "source": [
    "### Runtime Exception\n",
    "\n",
    "These are the exceptions which occurs during runtime and compiler is not forcing us to handle them."
   ]
  },
  {
   "cell_type": "code",
   "execution_count": 2,
   "id": "3e2af6d8-6736-4bcc-b04a-b85bc29f1da3",
   "metadata": {},
   "outputs": [
    {
     "ename": "EvalException",
     "evalue": "null",
     "output_type": "error",
     "traceback": [
      "\u001b[1m\u001b[31m---------------------------------------------------------------------------\u001b[0m",
      "\u001b[1m\u001b[31mjava.lang.ArithmeticException: null\u001b[0m",
      "\u001b[1m\u001b[31m\tat Main.method1(#12:3)\u001b[0m",
      "\u001b[1m\u001b[31m\tat .(#15:1)\u001b[0m"
     ]
    }
   ],
   "source": [
    "public class Main {\n",
    "    public void method1() {\n",
    "        throw new ArithmeticException();\n",
    "    }\n",
    "}\n",
    "\n",
    "Main main = new Main();\n",
    "main.method1();"
   ]
  },
  {
   "cell_type": "code",
   "execution_count": 3,
   "id": "c02da0a9-3aa0-4aea-a31b-3ad9a92b3f56",
   "metadata": {},
   "outputs": [
    {
     "ename": "EvalException",
     "evalue": "class java.lang.Integer cannot be cast to class java.lang.String (java.lang.Integer and java.lang.String are in module java.base of loader 'bootstrap')",
     "output_type": "error",
     "traceback": [
      "\u001b[1m\u001b[31m---------------------------------------------------------------------------\u001b[0m",
      "\u001b[1m\u001b[31mjava.lang.ClassCastException: class java.lang.Integer cannot be cast to class java.lang.String (java.lang.Integer and java.lang.String are in module java.base of loader 'bootstrap')\u001b[0m",
      "\u001b[1m\u001b[31m\tat .(#17:1)\u001b[0m"
     ]
    }
   ],
   "source": [
    "Object val = 0;\n",
    "System.out.println((String)val);"
   ]
  },
  {
   "cell_type": "code",
   "execution_count": 4,
   "id": "d204b76d-2e3e-4c60-a00a-97def7980f09",
   "metadata": {},
   "outputs": [
    {
     "ename": "EvalException",
     "evalue": "/ by zero",
     "output_type": "error",
     "traceback": [
      "\u001b[1m\u001b[31m---------------------------------------------------------------------------\u001b[0m",
      "\u001b[1m\u001b[31mjava.lang.ArithmeticException: / by zero\u001b[0m",
      "\u001b[1m\u001b[31m\tat .(#18:1)\u001b[0m"
     ]
    }
   ],
   "source": [
    "5 / 0;"
   ]
  },
  {
   "cell_type": "code",
   "execution_count": 5,
   "id": "62dde1f4-8997-4944-93af-1f8d1291c787",
   "metadata": {},
   "outputs": [
    {
     "ename": "EvalException",
     "evalue": "Index 3 out of bounds for length 2",
     "output_type": "error",
     "traceback": [
      "\u001b[1m\u001b[31m---------------------------------------------------------------------------\u001b[0m",
      "\u001b[1m\u001b[31mjava.lang.ArrayIndexOutOfBoundsException: Index 3 out of bounds for length 2\u001b[0m",
      "\u001b[1m\u001b[31m\tat .(#19:1)\u001b[0m"
     ]
    }
   ],
   "source": [
    "int[] val = new int[2];\n",
    "val[3];"
   ]
  },
  {
   "cell_type": "code",
   "execution_count": 6,
   "id": "be0a5617-7b17-4a45-aa47-2d7461a3ba31",
   "metadata": {},
   "outputs": [
    {
     "ename": "EvalException",
     "evalue": "null",
     "output_type": "error",
     "traceback": [
      "\u001b[1m\u001b[31m---------------------------------------------------------------------------\u001b[0m",
      "\u001b[1m\u001b[31mjava.lang.NullPointerException: null\u001b[0m",
      "\u001b[1m\u001b[31m\tat .(#20:1)\u001b[0m"
     ]
    }
   ],
   "source": [
    "String val = null;\n",
    "val.charAt(0);"
   ]
  },
  {
   "cell_type": "code",
   "execution_count": 7,
   "id": "c8bada99-c191-4349-90e6-43e5ed5f32b1",
   "metadata": {},
   "outputs": [
    {
     "ename": "EvalException",
     "evalue": "For input string: \"abc\"",
     "output_type": "error",
     "traceback": [
      "\u001b[1m\u001b[31m---------------------------------------------------------------------------\u001b[0m",
      "\u001b[1m\u001b[31mjava.lang.NumberFormatException: For input string: \"abc\"\u001b[0m",
      "\u001b[1m\u001b[31m\tat java.base/java.lang.NumberFormatException.forInputString(NumberFormatException.java:65)\u001b[0m",
      "\u001b[1m\u001b[31m\tat java.base/java.lang.Integer.parseInt(Integer.java:652)\u001b[0m",
      "\u001b[1m\u001b[31m\tat java.base/java.lang.Integer.parseInt(Integer.java:770)\u001b[0m",
      "\u001b[1m\u001b[31m\tat .(#21:1)\u001b[0m"
     ]
    }
   ],
   "source": [
    "Integer.parseInt(\"abc\");"
   ]
  },
  {
   "cell_type": "markdown",
   "id": "e1eb22c3-f71e-4557-bf2b-11a31f64b690",
   "metadata": {},
   "source": [
    "### Compile time Exception\n",
    "\n",
    "Compiler verifies them during the compile time of the code and if it is not handled properly code compilation will fail."
   ]
  },
  {
   "cell_type": "code",
   "execution_count": 8,
   "id": "7ad7ac70-20b0-4f21-8ce4-d8f54aae2f3b",
   "metadata": {},
   "outputs": [
    {
     "ename": "CompilationException",
     "evalue": "",
     "output_type": "error",
     "traceback": [
      "\u001b[1m\u001b[30m|   \u001b[1m\u001b[30m        \u001b[0m\u001b[1m\u001b[30m\u001b[41mthrow new ClassNotFoundException();\u001b[0m\u001b[1m\u001b[30m\u001b[0m",
      "\u001b[1m\u001b[31munreported exception java.lang.ClassNotFoundException; must be caught or declared to be thrown\u001b[0m",
      ""
     ]
    }
   ],
   "source": [
    "public class Main {\n",
    "    public void method1() {\n",
    "        throw new ClassNotFoundException();\n",
    "    }\n",
    "}\n",
    "\n",
    "Main main = new Main();\n",
    "main.method1();"
   ]
  },
  {
   "cell_type": "markdown",
   "id": "1cdeb09e-c213-4c78-8413-4f10224b3fa8",
   "metadata": {},
   "source": [
    "### Handle Exception using \"throws\""
   ]
  },
  {
   "cell_type": "code",
   "execution_count": 9,
   "id": "384004d2-88c7-4d7e-912b-0f8f82e2e603",
   "metadata": {},
   "outputs": [
    {
     "ename": "CompilationException",
     "evalue": "",
     "output_type": "error",
     "traceback": [
      "\u001b[1m\u001b[30m|   \u001b[1m\u001b[30m        \u001b[0m\u001b[1m\u001b[30m\u001b[41mmethod1()\u001b[0m\u001b[1m\u001b[30m;\u001b[0m",
      "\u001b[1m\u001b[31munreported exception java.lang.ClassNotFoundException; must be caught or declared to be thrown\u001b[0m",
      ""
     ]
    }
   ],
   "source": [
    "public class Main {\n",
    "    public void method2() {\n",
    "        method1();\n",
    "    }\n",
    "    \n",
    "    public void method1() throws ClassNotFoundException {\n",
    "        throw new ClassNotFoundException();\n",
    "    }\n",
    "}\n",
    "\n",
    "Main main = new Main();\n",
    "main.method1();"
   ]
  },
  {
   "cell_type": "markdown",
   "id": "27fc3f26-8f7a-4ecf-8272-38d0ae750b23",
   "metadata": {},
   "source": [
    "### Handle Exception using \"try/catch\""
   ]
  },
  {
   "cell_type": "code",
   "execution_count": 10,
   "id": "498dbc98-bb55-466e-8372-8a45dc98da07",
   "metadata": {},
   "outputs": [
    {
     "name": "stdout",
     "output_type": "stream",
     "text": [
      "Class Not Found\n",
      "Hello\n"
     ]
    }
   ],
   "source": [
    "public class Main {\n",
    "    public void method2() {\n",
    "        try {\n",
    "            method1();\n",
    "        }\n",
    "        catch (ClassNotFoundException exception) {\n",
    "            System.out.println(exception.getMessage());\n",
    "        }\n",
    "        \n",
    "        System.out.println(\"Hello\");\n",
    "    }\n",
    "    \n",
    "    public void method1() throws ClassNotFoundException {\n",
    "        throw new ClassNotFoundException(\"Class Not Found\");\n",
    "    }\n",
    "}\n",
    "\n",
    "Main main = new Main();\n",
    "main.method2();"
   ]
  },
  {
   "cell_type": "markdown",
   "id": "59f6c6c3-4fa0-4cfe-8c9a-c906a412c65b",
   "metadata": {},
   "source": [
    "### Try/Catch\n",
    "\n",
    "- Try block specify the code which can throw an exception.\n",
    "- Try block is followed either by catch or finally block.\n",
    "- Catch block is used to catch all the exception which can be thrown in the try block.\n",
    "- Multiple catch block can be used."
   ]
  },
  {
   "cell_type": "code",
   "execution_count": 11,
   "id": "7efc2c73-48d5-4336-b632-bba41fbb1f87",
   "metadata": {},
   "outputs": [
    {
     "name": "stdout",
     "output_type": "stream",
     "text": [
      "Interrupted Exception Occurred\n",
      "Hello\n"
     ]
    }
   ],
   "source": [
    "public class Main {\n",
    "    public void method2() {\n",
    "        try {\n",
    "            method1(\"boom\");\n",
    "        }\n",
    "        catch (ClassNotFoundException | InterruptedException exception) {\n",
    "            System.out.println(exception.getMessage());\n",
    "        }\n",
    "        \n",
    "        System.out.println(\"Hello\");\n",
    "    }\n",
    "    \n",
    "    public void method1(String str) throws ClassNotFoundException, InterruptedException  {\n",
    "        if (str.equals(\"dummy\")) {\n",
    "            throw new ClassNotFoundException(\"Class Not Found\");\n",
    "        } else {\n",
    "            throw new InterruptedException(\"Interrupted Exception Occurred\");\n",
    "        }\n",
    "    }\n",
    "}\n",
    "\n",
    "Main main = new Main();\n",
    "main.method2();"
   ]
  },
  {
   "cell_type": "markdown",
   "id": "836dbab1-8a0f-4cb6-8f1e-934bbd338d45",
   "metadata": {},
   "source": [
    "### Try/catch/finally Or try/finally block\n",
    "\n",
    "- Finally block can be use after try or after catch block.\n",
    "- Finally block will always get executed, either if you just return from try block or from catch block. At most, we can add only 1 finally block.\n",
    "- Mostly used for closing the object, adding logs etc.\n",
    "- If JVM related issues like out of memory, system shut down or our process is forcefully killed. Then finally block do not get executed."
   ]
  },
  {
   "cell_type": "code",
   "execution_count": 12,
   "id": "b350f66b-0fd5-434b-8907-92109b56c956",
   "metadata": {},
   "outputs": [
    {
     "name": "stdout",
     "output_type": "stream",
     "text": [
      "Interrupted Exception Occurred\n",
      "Hello World\n"
     ]
    }
   ],
   "source": [
    "public class Main {\n",
    "    public void method2() {\n",
    "        try {\n",
    "            method1(\"boom\");\n",
    "        }\n",
    "        catch (ClassNotFoundException | InterruptedException exception) {\n",
    "            System.out.println(exception.getMessage());\n",
    "        }\n",
    "        finally {\n",
    "            System.out.println(\"Hello World\");\n",
    "        }\n",
    "        \n",
    "    }\n",
    "    \n",
    "    public void method1(String str) throws ClassNotFoundException, InterruptedException  {\n",
    "        if (str.equals(\"dummy\")) {\n",
    "            throw new ClassNotFoundException(\"Class Not Found\");\n",
    "        } else {\n",
    "            throw new InterruptedException(\"Interrupted Exception Occurred\");\n",
    "        }\n",
    "    }\n",
    "}\n",
    "\n",
    "Main main = new Main();\n",
    "main.method2();"
   ]
  },
  {
   "cell_type": "markdown",
   "id": "c964a873-04cf-4220-9b54-89bf6c74c6de",
   "metadata": {},
   "source": [
    "### Custom Exception"
   ]
  },
  {
   "cell_type": "code",
   "execution_count": 13,
   "id": "c1ff7ccd-643b-468e-b602-19e47bfc23ff",
   "metadata": {},
   "outputs": [],
   "source": [
    "public class CustomException extends Exception {\n",
    "    CustomException(String message) {\n",
    "        super(message);\n",
    "    }\n",
    "}"
   ]
  },
  {
   "cell_type": "code",
   "execution_count": 14,
   "id": "39a9055b-6f13-475a-a5c4-11fbfec0219e",
   "metadata": {},
   "outputs": [
    {
     "name": "stdout",
     "output_type": "stream",
     "text": [
      "Hello\n",
      "Hello World\n"
     ]
    }
   ],
   "source": [
    "public class Main {\n",
    "    public void method2() {\n",
    "        try {\n",
    "            method1();\n",
    "        }\n",
    "        catch (CustomException exception) {\n",
    "            System.out.println(exception.getMessage());\n",
    "        }\n",
    "        finally {\n",
    "            System.out.println(\"Hello World\");\n",
    "        }\n",
    "        \n",
    "    }\n",
    "    \n",
    "    public void method1() throws CustomException  {\n",
    "        throw new CustomException(\"Hello\");\n",
    "    }\n",
    "}\n",
    "\n",
    "Main main = new Main();\n",
    "main.method2();"
   ]
  },
  {
   "cell_type": "markdown",
   "id": "21733dd5-d83a-437f-955d-e6fb3979eb79",
   "metadata": {},
   "source": [
    "### Why do we need exception handling\n",
    "\n",
    "- It makes our code clean by separating the error handling code from regular code.\n",
    "- It allows program to recover from the error.\n",
    "- It allow us to add more information, which support debugging\n",
    "- Improves security, by hiding the sensitive information"
   ]
  }
 ],
 "metadata": {
  "kernelspec": {
   "display_name": "Java",
   "language": "java",
   "name": "java"
  },
  "language_info": {
   "codemirror_mode": "java",
   "file_extension": ".jshell",
   "mimetype": "text/x-java-source",
   "name": "Java",
   "pygments_lexer": "java",
   "version": "11.0.8+10-LTS"
  }
 },
 "nbformat": 4,
 "nbformat_minor": 5
}
