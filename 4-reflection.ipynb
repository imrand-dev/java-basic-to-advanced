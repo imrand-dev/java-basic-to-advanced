{
 "cells": [
  {
   "cell_type": "markdown",
   "id": "6387c2f7-dff6-42e4-ae49-c86696d81e62",
   "metadata": {},
   "source": [
    "# Session 19 - Java Reflection\n",
    "\n",
    "## What is Reflection?\n",
    "\n",
    "- [Java Reflection Example Tutorial](https://www.digitalocean.com/community/tutorials/java-reflection-example-tutorial)\n",
    "- [Guide to Java Reflection](https://www.baeldung.com/java-reflection)\n",
    "\n",
    "This is used to examine the Classes, Methods, Fields, Interfaces at runtime and also possible to change the behavior of the class too.\n",
    "\n",
    "For example\n",
    "\n",
    "- What all methods present in the class.\n",
    "- What all fields present in the class.\n",
    "- What is the return type of the method.\n",
    "- What is the Modifier of the Class\n",
    "- What all interfaces class has implemented\n",
    "- Change the value of the public and private fields of the Class etc.\n",
    "\n",
    "### How to do Reflection of Classes?\n",
    "\n",
    "To reflect the class, we first need to get an Object of `Class`.\n",
    "\n",
    "What is this class `Class`?\n",
    "- Instance of the class `Class` represents classes during runtime.\n",
    "- JVM creates one `Class` object for each and every class which is loaded during run time.\n",
    "- This `Class` object, has meta data information about the particular class like its method, fields, constructor etc.\n",
    "\n",
    "## How to get the particular class `Class` object?\n",
    "\n",
    "There are 3 ways\n",
    "\n",
    "### 1) Using `forName()` method"
   ]
  },
  {
   "cell_type": "code",
   "execution_count": 1,
   "id": "fafe953d-f962-490b-822f-810df6c8d33d",
   "metadata": {},
   "outputs": [
    {
     "ename": "EvalException",
     "evalue": "Bird",
     "output_type": "error",
     "traceback": [
      "\u001b[1m\u001b[31m---------------------------------------------------------------------------\u001b[0m",
      "\u001b[1m\u001b[31mjava.lang.ClassNotFoundException: Bird\u001b[0m",
      "\u001b[1m\u001b[31m\tat java.base/java.net.URLClassLoader.findClass(URLClassLoader.java:445)\u001b[0m",
      "\u001b[1m\u001b[31m\tat jdk.jshell/jdk.jshell.execution.DefaultLoaderDelegate$RemoteClassLoader.findClass(DefaultLoaderDelegate.java:154)\u001b[0m",
      "\u001b[1m\u001b[31m\tat java.base/java.lang.ClassLoader.loadClass(ClassLoader.java:593)\u001b[0m",
      "\u001b[1m\u001b[31m\tat java.base/java.lang.ClassLoader.loadClass(ClassLoader.java:526)\u001b[0m",
      "\u001b[1m\u001b[31m\tat java.base/java.lang.Class.forName0(Native Method)\u001b[0m",
      "\u001b[1m\u001b[31m\tat java.base/java.lang.Class.forName(Class.java:421)\u001b[0m",
      "\u001b[1m\u001b[31m\tat java.base/java.lang.Class.forName(Class.java:412)\u001b[0m",
      "\u001b[1m\u001b[31m\tat .(#13:1)\u001b[0m"
     ]
    }
   ],
   "source": [
    "public class Bird {}\n",
    "\n",
    "// get object of Class for getting metadata information of Bird class\n",
    "Class birdClass = Class.forName(\"Bird\");\n",
    "System.out.println(birdClass);"
   ]
  },
  {
   "cell_type": "markdown",
   "id": "06f44110-f7df-4fda-85df-522063543378",
   "metadata": {},
   "source": [
    "### 2) Using `.class`"
   ]
  },
  {
   "cell_type": "code",
   "execution_count": 2,
   "id": "5907aed7-474c-460e-b945-a4a98005f408",
   "metadata": {},
   "outputs": [
    {
     "name": "stdout",
     "output_type": "stream",
     "text": [
      "class REPL.$JShell$12$Bird\n"
     ]
    }
   ],
   "source": [
    "// get object of Class for getting metadata information of Bird class\n",
    "Class birdClass = Bird.class;\n",
    "System.out.println(birdClass);"
   ]
  },
  {
   "cell_type": "markdown",
   "id": "dc0185d1-b81c-4e36-9877-af8a450d0fec",
   "metadata": {},
   "source": [
    "### 3) Using `getClass()` method"
   ]
  },
  {
   "cell_type": "code",
   "execution_count": 3,
   "id": "8fc875e3-c6a7-4814-92e2-fa443322d5b8",
   "metadata": {},
   "outputs": [
    {
     "name": "stdout",
     "output_type": "stream",
     "text": [
      "class REPL.$JShell$12$Bird\n"
     ]
    }
   ],
   "source": [
    "Bird bird = new Bird();\n",
    "\n",
    "// get object of Class for getting metadata information of Bird class\n",
    "Class birdClass = bird.getClass();\n",
    "System.out.println(birdClass);"
   ]
  },
  {
   "cell_type": "markdown",
   "id": "7c4076e2-5786-4e14-a658-6cc31c6218cc",
   "metadata": {},
   "source": [
    "## Reflection of Classes"
   ]
  },
  {
   "cell_type": "code",
   "execution_count": 4,
   "id": "28535c3d-a21c-437d-986e-f0ed1d477f5b",
   "metadata": {},
   "outputs": [],
   "source": [
    "public class Eagle {\n",
    "    public String breed;\n",
    "    private boolean canSwim;\n",
    "    \n",
    "    public void fly() {\n",
    "        System.out.println(\"Fly\");\n",
    "    }\n",
    "    \n",
    "    public void eat() {\n",
    "        System.out.println(\"Eat\");\n",
    "    }\n",
    "}"
   ]
  },
  {
   "cell_type": "code",
   "execution_count": 5,
   "id": "3d3ce783-9809-4a2d-9915-86964ae395f9",
   "metadata": {},
   "outputs": [
    {
     "data": {
      "text/plain": [
       "class java.lang.Class"
      ]
     },
     "execution_count": 5,
     "metadata": {},
     "output_type": "execute_result"
    }
   ],
   "source": [
    "Class eagle = Eagle.class;\n",
    "eagle.getClass();"
   ]
  },
  {
   "cell_type": "code",
   "execution_count": 6,
   "id": "7f7736b7-4fc2-4b7d-b107-cf47fafaa0af",
   "metadata": {},
   "outputs": [
    {
     "data": {
      "text/plain": [
       "public static"
      ]
     },
     "execution_count": 6,
     "metadata": {},
     "output_type": "execute_result"
    }
   ],
   "source": [
    "import java.lang.reflect.Modifier;\n",
    "\n",
    "Modifier.toString(eagle.getModifiers());"
   ]
  },
  {
   "cell_type": "code",
   "execution_count": 7,
   "id": "0d91a68c-af99-4356-9c54-c799d8ef49eb",
   "metadata": {},
   "outputs": [
    {
     "data": {
      "text/plain": [
       "[public void REPL.$JShell$17$Eagle.fly(), public void REPL.$JShell$17$Eagle.eat(), public boolean java.lang.Object.equals(java.lang.Object), public java.lang.String java.lang.Object.toString(), public native int java.lang.Object.hashCode(), public final native java.lang.Class java.lang.Object.getClass(), public final native void java.lang.Object.notify(), public final native void java.lang.Object.notifyAll(), public final void java.lang.Object.wait(long) throws java.lang.InterruptedException, public final void java.lang.Object.wait(long,int) throws java.lang.InterruptedException, public final void java.lang.Object.wait() throws java.lang.InterruptedException]"
      ]
     },
     "execution_count": 7,
     "metadata": {},
     "output_type": "execute_result"
    }
   ],
   "source": [
    "import java.util.Arrays;\n",
    "\n",
    "Arrays.toString(eagle.getMethods());"
   ]
  },
  {
   "cell_type": "markdown",
   "id": "5bbb57b8-b885-491d-a2cc-ee405a895599",
   "metadata": {},
   "source": [
    "## Reflection of Methods"
   ]
  },
  {
   "cell_type": "code",
   "execution_count": 8,
   "id": "ebaca4b2-b7d5-4ed9-bfd9-17cc8ddc43b6",
   "metadata": {},
   "outputs": [
    {
     "name": "stdout",
     "output_type": "stream",
     "text": [
      "Method name - fly\n",
      "Method name - void\n",
      "Class name - class REPL.$JShell$17$Eagle\n",
      "------------\n",
      "Method name - eat\n",
      "Method name - void\n",
      "Class name - class REPL.$JShell$17$Eagle\n",
      "------------\n",
      "Method name - equals\n",
      "Method name - boolean\n",
      "Class name - class java.lang.Object\n",
      "------------\n",
      "Method name - toString\n",
      "Method name - class java.lang.String\n",
      "Class name - class java.lang.Object\n",
      "------------\n",
      "Method name - hashCode\n",
      "Method name - int\n",
      "Class name - class java.lang.Object\n",
      "------------\n",
      "Method name - getClass\n",
      "Method name - class java.lang.Class\n",
      "Class name - class java.lang.Object\n",
      "------------\n",
      "Method name - notify\n",
      "Method name - void\n",
      "Class name - class java.lang.Object\n",
      "------------\n",
      "Method name - notifyAll\n",
      "Method name - void\n",
      "Class name - class java.lang.Object\n",
      "------------\n",
      "Method name - wait\n",
      "Method name - void\n",
      "Class name - class java.lang.Object\n",
      "------------\n",
      "Method name - wait\n",
      "Method name - void\n",
      "Class name - class java.lang.Object\n",
      "------------\n",
      "Method name - wait\n",
      "Method name - void\n",
      "Class name - class java.lang.Object\n",
      "------------\n"
     ]
    }
   ],
   "source": [
    "import java.lang.reflect.Method;\n",
    "\n",
    "Class eagleClass = Eagle.class;\n",
    "Method[] methods = eagleClass.getMethods(); // return all public methods (Object class also)\n",
    "\n",
    "for (Method method: methods) {\n",
    "    System.out.println(\"Method name - \" + method.getName());\n",
    "    System.out.println(\"Method name - \" + method.getReturnType());\n",
    "    System.out.println(\"Class name - \" + method.getDeclaringClass());\n",
    "    \n",
    "    System.out.println(\"------------\");\n",
    "}"
   ]
  },
  {
   "cell_type": "markdown",
   "id": "50859a3e-54ed-496e-bf31-4ee00368fc23",
   "metadata": {},
   "source": [
    "Return all `public` and `private` methods of `Eagle` class."
   ]
  },
  {
   "cell_type": "code",
   "execution_count": 9,
   "id": "5fb1dd4d-2842-4552-b40b-8fe5ec669865",
   "metadata": {},
   "outputs": [
    {
     "name": "stdout",
     "output_type": "stream",
     "text": [
      "Method name - fly\n",
      "Method name - void\n",
      "Class name - class REPL.$JShell$17$Eagle\n",
      "------------\n",
      "Method name - eat\n",
      "Method name - void\n",
      "Class name - class REPL.$JShell$17$Eagle\n",
      "------------\n"
     ]
    }
   ],
   "source": [
    "Class eagle = Eagle.class;\n",
    "Method[] methods = eagle.getDeclaredMethods(); // return all public & private methods\n",
    "\n",
    "for (Method method: methods) {\n",
    "    System.out.println(\"Method name - \" + method.getName());\n",
    "    System.out.println(\"Method name - \" + method.getReturnType());\n",
    "    System.out.println(\"Class name - \" + method.getDeclaringClass());\n",
    "    \n",
    "    System.out.println(\"------------\");\n",
    "}"
   ]
  },
  {
   "cell_type": "markdown",
   "id": "381e852b-d819-4ed6-a80c-84af97c9d977",
   "metadata": {},
   "source": [
    "### Invoking methods in Reflection"
   ]
  },
  {
   "cell_type": "code",
   "execution_count": 10,
   "id": "e37f5c1e-7eb1-410c-835d-8f7c2b3cf7df",
   "metadata": {},
   "outputs": [],
   "source": [
    "public class Eagle {\n",
    "    Eagle() {\n",
    "        \n",
    "    }\n",
    "    \n",
    "    public void fly(int intPara, boolean boolPara, String strPara) {\n",
    "        System.out.println(\"Fly \" + intPara + \" \"+boolPara + \" \" + strPara);;\n",
    "    }\n",
    "}"
   ]
  },
  {
   "cell_type": "code",
   "execution_count": 11,
   "id": "b42dd98d-024b-4032-9794-70ff6512feaa",
   "metadata": {},
   "outputs": [
    {
     "name": "stdout",
     "output_type": "stream",
     "text": [
      "Fly 1 true hello\n"
     ]
    }
   ],
   "source": [
    "Class eagle = Eagle.class;\n",
    "Object eagleObj = eagle.newInstance(); // invoke empty eagle constructor\n",
    "\n",
    "Method flyMethod = eagle.getMethod(\"fly\", int.class, boolean.class, String.class);\n",
    "flyMethod.invoke(eagleObj, 1, true, \"hello\");"
   ]
  },
  {
   "cell_type": "markdown",
   "id": "6bd11318-b8ad-447f-8073-01f2cb221e7b",
   "metadata": {},
   "source": [
    "## Reflection of Fields"
   ]
  },
  {
   "cell_type": "code",
   "execution_count": 12,
   "id": "05feff88-6f12-41df-b649-e58463a2770e",
   "metadata": {},
   "outputs": [],
   "source": [
    "public class Eagle {\n",
    "    public String breed;\n",
    "    private boolean canSwim;\n",
    "    \n",
    "    public void fly() {\n",
    "        System.out.println(\"Fly\");\n",
    "    }\n",
    "    \n",
    "    public void eat() {\n",
    "        System.out.println(\"Eat\");\n",
    "    }\n",
    "}"
   ]
  },
  {
   "cell_type": "code",
   "execution_count": 13,
   "id": "e4910492-f259-46b3-bbce-ece3ce92f391",
   "metadata": {},
   "outputs": [
    {
     "name": "stdout",
     "output_type": "stream",
     "text": [
      "Field Name - breed\n",
      "Type Name - class java.lang.String\n",
      "Modifier Name - public\n"
     ]
    }
   ],
   "source": [
    "import java.lang.reflect.Field;\n",
    "\n",
    "Class eagle = Eagle.class;\n",
    "Field[] fields = eagle.getFields();\n",
    "\n",
    "// return only public fields\n",
    "for (Field field: fields) {\n",
    "    System.out.println(\"Field Name - \"+ field.getName());\n",
    "    System.out.println(\"Type Name - \"+ field.getType());\n",
    "    System.out.println(\"Modifier Name - \"+Modifier.toString(field.getModifiers()));\n",
    "}"
   ]
  },
  {
   "cell_type": "code",
   "execution_count": 14,
   "id": "470888c3-e891-41f8-9198-9fe482754ebd",
   "metadata": {},
   "outputs": [
    {
     "name": "stdout",
     "output_type": "stream",
     "text": [
      "Field Name - breed\n",
      "Type Name - class java.lang.String\n",
      "Modifier Name - public\n",
      "Field Name - canSwim\n",
      "Type Name - boolean\n",
      "Modifier Name - private\n"
     ]
    }
   ],
   "source": [
    "Field[] fields = eagle.getDeclaredFields();\n",
    "\n",
    "// return private & public fields\n",
    "for (Field field: fields) {\n",
    "    System.out.println(\"Field Name - \"+ field.getName());\n",
    "    System.out.println(\"Type Name - \"+ field.getType());\n",
    "    System.out.println(\"Modifier Name - \"+Modifier.toString(field.getModifiers()));\n",
    "}"
   ]
  },
  {
   "cell_type": "markdown",
   "id": "9eef8240-84c9-4694-8d52-3cc0fc281659",
   "metadata": {},
   "source": [
    "### Setting the value of Public field"
   ]
  },
  {
   "cell_type": "code",
   "execution_count": 15,
   "id": "d77094ff-3cba-4341-b423-6ccf9d920697",
   "metadata": {},
   "outputs": [
    {
     "data": {
      "text/plain": [
       "Brown Breed"
      ]
     },
     "execution_count": 15,
     "metadata": {},
     "output_type": "execute_result"
    }
   ],
   "source": [
    "Class eagle = Eagle.class;\n",
    "Eagle eagleObj = new Eagle();\n",
    "\n",
    "Field field = eagle.getDeclaredField(\"breed\");\n",
    "field.set(eagleObj, \"Brown Breed\");\n",
    "eagleObj.breed;"
   ]
  },
  {
   "cell_type": "markdown",
   "id": "0487d41c-52a4-46f7-a94b-4a40148474e0",
   "metadata": {},
   "source": [
    "### Setting the value of Private field"
   ]
  },
  {
   "cell_type": "code",
   "execution_count": 16,
   "id": "93c88184-1137-4f14-9d50-cf022175d23b",
   "metadata": {},
   "outputs": [
    {
     "ename": "EvalException",
     "evalue": "class REPL.$JShell$39 cannot access a member of class REPL.$JShell$17C$Eagle with modifiers \"private\"",
     "output_type": "error",
     "traceback": [
      "\u001b[1m\u001b[31m---------------------------------------------------------------------------\u001b[0m",
      "\u001b[1m\u001b[31mjava.lang.IllegalAccessException: class REPL.$JShell$39 cannot access a member of class REPL.$JShell$17C$Eagle with modifiers \"private\"\u001b[0m",
      "\u001b[1m\u001b[31m\tat java.base/jdk.internal.reflect.Reflection.newIllegalAccessException(Reflection.java:394)\u001b[0m",
      "\u001b[1m\u001b[31m\tat java.base/java.lang.reflect.AccessibleObject.checkAccess(AccessibleObject.java:714)\u001b[0m",
      "\u001b[1m\u001b[31m\tat java.base/java.lang.reflect.Field.checkAccess(Field.java:1156)\u001b[0m",
      "\u001b[1m\u001b[31m\tat java.base/java.lang.reflect.Field.set(Field.java:833)\u001b[0m",
      "\u001b[1m\u001b[31m\tat .(#39:1)\u001b[0m"
     ]
    }
   ],
   "source": [
    "// should work in .java file\n",
    "Class eagle = Eagle.class;\n",
    "Eagle eagleObj = new Eagle();\n",
    "\n",
    "Field field = eagle.getDeclaredField(\"canSwim\");\n",
    "field.set(eagleObj, true);\n",
    "eagleObj.canSwim;"
   ]
  },
  {
   "cell_type": "code",
   "execution_count": 17,
   "id": "8ff1a54c-4e32-4349-9ed9-c159c7a7efdd",
   "metadata": {},
   "outputs": [
    {
     "name": "stdout",
     "output_type": "stream",
     "text": [
      "Value is set to true\n"
     ]
    }
   ],
   "source": [
    "Class eagle = Eagle.class;\n",
    "Eagle eagleObj = new Eagle();\n",
    "\n",
    "Field field = eagle.getDeclaredField(\"canSwim\");\n",
    "field.setAccessible(true);\n",
    "field.set(eagleObj, true);\n",
    "\n",
    "if (field.getBoolean(eagleObj)) {\n",
    "    System.out.println(\"Value is set to true\");\n",
    "}"
   ]
  },
  {
   "cell_type": "markdown",
   "id": "92a6b6e1-fcd4-4a43-8f55-91442e512bbe",
   "metadata": {},
   "source": [
    "## Reflection of Constructor"
   ]
  },
  {
   "cell_type": "code",
   "execution_count": 18,
   "id": "c7b432f9-0433-4463-b31b-a6661cbcdd33",
   "metadata": {},
   "outputs": [],
   "source": [
    "public class Eagle {\n",
    "    private Eagle() {}\n",
    "    \n",
    "    public void fly() {\n",
    "        System.out.println(\"fly\");\n",
    "    }\n",
    "}"
   ]
  },
  {
   "cell_type": "code",
   "execution_count": 19,
   "id": "642d364e-b9ea-4bf8-8eee-9d90e38fbe25",
   "metadata": {},
   "outputs": [
    {
     "name": "stdout",
     "output_type": "stream",
     "text": [
      "Modifier: private\n",
      "fly\n"
     ]
    }
   ],
   "source": [
    "import java.lang.reflect.Constructor;\n",
    "\n",
    "Class eagle = Eagle.class;\n",
    "\n",
    "// get all public, private constructors\n",
    "Constructor[] eagleConstructorList = eagle.getDeclaredConstructors();\n",
    "\n",
    "for (Constructor e: eagleConstructorList) {\n",
    "    System.out.println(\"Modifier: \"+ Modifier.toString(e.getModifiers()));\n",
    "    \n",
    "    e.setAccessible(true);\n",
    "    Eagle eagle_ = (Eagle) e.newInstance();\n",
    "    eagle_.fly();\n",
    "}"
   ]
  }
 ],
 "metadata": {
  "kernelspec": {
   "display_name": "Java",
   "language": "java",
   "name": "java"
  },
  "language_info": {
   "codemirror_mode": "java",
   "file_extension": ".jshell",
   "mimetype": "text/x-java-source",
   "name": "Java",
   "pygments_lexer": "java",
   "version": "21.0.1+12-LTS"
  }
 },
 "nbformat": 4,
 "nbformat_minor": 5
}
